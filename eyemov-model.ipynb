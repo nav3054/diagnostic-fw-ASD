{
 "cells": [
  {
   "cell_type": "code",
   "execution_count": 1,
   "id": "9c2cd95b",
   "metadata": {
    "execution": {
     "iopub.execute_input": "2024-06-16T10:31:17.211200Z",
     "iopub.status.busy": "2024-06-16T10:31:17.210818Z",
     "iopub.status.idle": "2024-06-16T10:31:30.798601Z",
     "shell.execute_reply": "2024-06-16T10:31:30.797657Z"
    },
    "papermill": {
     "duration": 13.59868,
     "end_time": "2024-06-16T10:31:30.801050",
     "exception": false,
     "start_time": "2024-06-16T10:31:17.202370",
     "status": "completed"
    },
    "tags": []
   },
   "outputs": [
    {
     "name": "stdout",
     "output_type": "stream",
     "text": [
      "Collecting split_folders\r\n",
      "  Downloading split_folders-0.5.1-py3-none-any.whl.metadata (6.2 kB)\r\n",
      "Downloading split_folders-0.5.1-py3-none-any.whl (8.4 kB)\r\n",
      "Installing collected packages: split_folders\r\n",
      "Successfully installed split_folders-0.5.1\r\n"
     ]
    }
   ],
   "source": [
    "!pip install split_folders"
   ]
  },
  {
   "cell_type": "code",
   "execution_count": 2,
   "id": "e3bdc633",
   "metadata": {
    "execution": {
     "iopub.execute_input": "2024-06-16T10:31:30.816006Z",
     "iopub.status.busy": "2024-06-16T10:31:30.815718Z",
     "iopub.status.idle": "2024-06-16T10:31:44.309730Z",
     "shell.execute_reply": "2024-06-16T10:31:44.308746Z"
    },
    "papermill": {
     "duration": 13.504123,
     "end_time": "2024-06-16T10:31:44.312139",
     "exception": false,
     "start_time": "2024-06-16T10:31:30.808016",
     "status": "completed"
    },
    "tags": []
   },
   "outputs": [
    {
     "name": "stderr",
     "output_type": "stream",
     "text": [
      "2024-06-16 10:31:33.130132: E external/local_xla/xla/stream_executor/cuda/cuda_dnn.cc:9261] Unable to register cuDNN factory: Attempting to register factory for plugin cuDNN when one has already been registered\n",
      "2024-06-16 10:31:33.130245: E external/local_xla/xla/stream_executor/cuda/cuda_fft.cc:607] Unable to register cuFFT factory: Attempting to register factory for plugin cuFFT when one has already been registered\n",
      "2024-06-16 10:31:33.233995: E external/local_xla/xla/stream_executor/cuda/cuda_blas.cc:1515] Unable to register cuBLAS factory: Attempting to register factory for plugin cuBLAS when one has already been registered\n"
     ]
    }
   ],
   "source": [
    "import os\n",
    "import numpy as np\n",
    "import pandas as pd\n",
    "import tensorflow as tf\n",
    "import seaborn as sns\n",
    "import matplotlib.pyplot as plt\n",
    "import splitfolders\n",
    "\n",
    "\n",
    "from tensorflow.keras import layers\n",
    "from tensorflow.keras.preprocessing import image_dataset_from_directory\n",
    "from tensorflow.keras.layers import Dense, Conv2D, MaxPooling2D, Activation, Dropout, BatchNormalization, Flatten, GlobalAveragePooling2D\n",
    "from tensorflow.keras.models import Model, load_model, Sequential\n",
    "\n",
    "from sklearn.metrics import confusion_matrix, classification_report\n",
    "from mlxtend.plotting import plot_confusion_matrix\n",
    "import itertools\n",
    "\n",
    "\n",
    "from tensorflow.keras.applications import VGG19, Xception, InceptionV3, ResNet50, EfficientNetB4, NASNetMobile \n",
    "\n",
    "\n",
    "import warnings\n",
    "warnings.filterwarnings(\"ignore\")\n"
   ]
  },
  {
   "cell_type": "code",
   "execution_count": null,
   "id": "d3ef0199",
   "metadata": {
    "papermill": {
     "duration": 0.006374,
     "end_time": "2024-06-16T10:31:44.325462",
     "exception": false,
     "start_time": "2024-06-16T10:31:44.319088",
     "status": "completed"
    },
    "tags": []
   },
   "outputs": [],
   "source": []
  },
  {
   "cell_type": "code",
   "execution_count": 3,
   "id": "8bcde706",
   "metadata": {
    "execution": {
     "iopub.execute_input": "2024-06-16T10:31:44.340518Z",
     "iopub.status.busy": "2024-06-16T10:31:44.339753Z",
     "iopub.status.idle": "2024-06-16T10:31:44.344746Z",
     "shell.execute_reply": "2024-06-16T10:31:44.343878Z"
    },
    "papermill": {
     "duration": 0.014511,
     "end_time": "2024-06-16T10:31:44.346651",
     "exception": false,
     "start_time": "2024-06-16T10:31:44.332140",
     "status": "completed"
    },
    "tags": []
   },
   "outputs": [],
   "source": [
    "loc = \"/kaggle/input/asd-eye-data/ASDeyedata\""
   ]
  },
  {
   "cell_type": "code",
   "execution_count": 4,
   "id": "12d27bc7",
   "metadata": {
    "execution": {
     "iopub.execute_input": "2024-06-16T10:31:44.360899Z",
     "iopub.status.busy": "2024-06-16T10:31:44.360634Z",
     "iopub.status.idle": "2024-06-16T10:31:44.365552Z",
     "shell.execute_reply": "2024-06-16T10:31:44.364779Z"
    },
    "papermill": {
     "duration": 0.014143,
     "end_time": "2024-06-16T10:31:44.367366",
     "exception": false,
     "start_time": "2024-06-16T10:31:44.353223",
     "status": "completed"
    },
    "tags": []
   },
   "outputs": [],
   "source": [
    "# Create output directories\n",
    "os.makedirs('output', exist_ok = True)\n",
    "os.makedirs('output/train', exist_ok = True)\n",
    "os.makedirs('output/val', exist_ok = True)\n",
    "os.makedirs('output/test', exist_ok = True)"
   ]
  },
  {
   "cell_type": "code",
   "execution_count": 5,
   "id": "281b7636",
   "metadata": {
    "execution": {
     "iopub.execute_input": "2024-06-16T10:31:44.382194Z",
     "iopub.status.busy": "2024-06-16T10:31:44.381612Z",
     "iopub.status.idle": "2024-06-16T10:31:47.217855Z",
     "shell.execute_reply": "2024-06-16T10:31:47.216863Z"
    },
    "papermill": {
     "duration": 2.846143,
     "end_time": "2024-06-16T10:31:47.220171",
     "exception": false,
     "start_time": "2024-06-16T10:31:44.374028",
     "status": "completed"
    },
    "tags": []
   },
   "outputs": [
    {
     "name": "stderr",
     "output_type": "stream",
     "text": [
      "Copying files: 547 files [00:02, 193.70 files/s]\n"
     ]
    }
   ],
   "source": [
    "splitfolders.ratio(loc, output = 'output', seed = 0, ratio = (0.8,0.1,0.1))"
   ]
  },
  {
   "cell_type": "code",
   "execution_count": 6,
   "id": "2786ef78",
   "metadata": {
    "execution": {
     "iopub.execute_input": "2024-06-16T10:31:47.239265Z",
     "iopub.status.busy": "2024-06-16T10:31:47.238944Z",
     "iopub.status.idle": "2024-06-16T10:31:47.243094Z",
     "shell.execute_reply": "2024-06-16T10:31:47.242182Z"
    },
    "papermill": {
     "duration": 0.015944,
     "end_time": "2024-06-16T10:31:47.245132",
     "exception": false,
     "start_time": "2024-06-16T10:31:47.229188",
     "status": "completed"
    },
    "tags": []
   },
   "outputs": [],
   "source": [
    "# Load data\n",
    "train_dir = \"output/train\"\n",
    "test_dir = \"output/test\"\n",
    "val_dir = \"output/val\""
   ]
  },
  {
   "cell_type": "code",
   "execution_count": 7,
   "id": "54e5657e",
   "metadata": {
    "execution": {
     "iopub.execute_input": "2024-06-16T10:31:47.263815Z",
     "iopub.status.busy": "2024-06-16T10:31:47.263527Z",
     "iopub.status.idle": "2024-06-16T10:31:49.733035Z",
     "shell.execute_reply": "2024-06-16T10:31:49.732161Z"
    },
    "papermill": {
     "duration": 2.481686,
     "end_time": "2024-06-16T10:31:49.735584",
     "exception": false,
     "start_time": "2024-06-16T10:31:47.253898",
     "status": "completed"
    },
    "tags": []
   },
   "outputs": [
    {
     "name": "stdout",
     "output_type": "stream",
     "text": [
      "Found 437 files belonging to 2 classes.\n",
      "Found 57 files belonging to 2 classes.\n",
      "Found 53 files belonging to 2 classes.\n"
     ]
    }
   ],
   "source": [
    "# load training data\n",
    "train_data = tf.keras.preprocessing.image_dataset_from_directory(\n",
    "    train_dir, \n",
    "    image_size = (224,224),\n",
    "    batch_size = 32,\n",
    "    label_mode = 'categorical',\n",
    "    shuffle = True,\n",
    "    seed = 0)\n",
    "\n",
    "\n",
    "# load testing data\n",
    "test_data = tf.keras.preprocessing.image_dataset_from_directory(\n",
    "    test_dir, \n",
    "    image_size = (224,224),\n",
    "    batch_size = 32,\n",
    "    label_mode = 'categorical',\n",
    "    shuffle = False)\n",
    "\n",
    "\n",
    "# load validation data\n",
    "val_data = tf.keras.preprocessing.image_dataset_from_directory(\n",
    "    val_dir, \n",
    "    image_size = (224,224),\n",
    "    batch_size = 32,\n",
    "    label_mode = 'categorical',\n",
    "    shuffle = False)\n",
    "\n"
   ]
  },
  {
   "cell_type": "code",
   "execution_count": 8,
   "id": "0a6541ea",
   "metadata": {
    "execution": {
     "iopub.execute_input": "2024-06-16T10:31:49.757093Z",
     "iopub.status.busy": "2024-06-16T10:31:49.756482Z",
     "iopub.status.idle": "2024-06-16T10:31:49.761527Z",
     "shell.execute_reply": "2024-06-16T10:31:49.760674Z"
    },
    "papermill": {
     "duration": 0.017634,
     "end_time": "2024-06-16T10:31:49.763660",
     "exception": false,
     "start_time": "2024-06-16T10:31:49.746026",
     "status": "completed"
    },
    "tags": []
   },
   "outputs": [
    {
     "name": "stdout",
     "output_type": "stream",
     "text": [
      "Number of classes :  2\n",
      "['TCImages-0', 'TSImages-1']\n"
     ]
    }
   ],
   "source": [
    "class_names = train_data.class_names\n",
    "class_count = len(class_names)\n",
    "print(\"Number of classes : \",class_count)\n",
    "print(class_names)"
   ]
  },
  {
   "cell_type": "code",
   "execution_count": 9,
   "id": "b2dae899",
   "metadata": {
    "execution": {
     "iopub.execute_input": "2024-06-16T10:31:49.783031Z",
     "iopub.status.busy": "2024-06-16T10:31:49.782752Z",
     "iopub.status.idle": "2024-06-16T10:31:49.793146Z",
     "shell.execute_reply": "2024-06-16T10:31:49.792338Z"
    },
    "papermill": {
     "duration": 0.02238,
     "end_time": "2024-06-16T10:31:49.795084",
     "exception": false,
     "start_time": "2024-06-16T10:31:49.772704",
     "status": "completed"
    },
    "tags": []
   },
   "outputs": [],
   "source": [
    "def create_model(model_name):\n",
    "    \n",
    "    input_shape = (224,224,3)\n",
    "    base_model = None\n",
    "    \n",
    "    \n",
    "    if model_name == \"VGG19\":\n",
    "        base_model = VGG19(include_top = False, \n",
    "                           weights = \"imagenet\", \n",
    "                           input_shape = input_shape, \n",
    "                           pooling = \"max\")  \n",
    "    \n",
    "    elif model_name == \"Xception\":\n",
    "        base_model = Xception(include_top = False, \n",
    "                              weights = \"imagenet\", \n",
    "                              input_shape = input_shape, \n",
    "                              pooling = \"max\")\n",
    "    \n",
    "    elif model_name == 'EfficientNetB4':\n",
    "        base_model = EfficientNetB4(include_top=False, \n",
    "                                    weights=\"imagenet\", \n",
    "                                    input_shape=input_shape, \n",
    "                                    pooling='max')\n",
    "    \n",
    "    elif model_name == 'NASNetMobile':\n",
    "        base_model = NASNetMobile(include_top=False, \n",
    "                                  weights=\"imagenet\", \n",
    "                                  input_shape=input_shape, \n",
    "                                  pooling='max')\n",
    "    \n",
    "    elif model_name == \"ResNet50\":\n",
    "        base_model = ResNet50(include_top=False, \n",
    "                                  weights=\"imagenet\", \n",
    "                                  input_shape=input_shape, \n",
    "                                  pooling='max')\n",
    "    elif model_name == \"InceptionV3\":\n",
    "        base_model = InceptionV3(include_top=False, \n",
    "                                  weights=\"imagenet\", \n",
    "                                  input_shape=input_shape, \n",
    "                                  pooling='max')\n",
    "    \n",
    "        \n",
    "    x = base_model.output\n",
    "    #x = GlobalAveragePooling2D()(x)\n",
    "    x = BatchNormalization(axis = -1, momentum = 0.99, epsilon = 0.002)(x)\n",
    "    x = Dense(128, activation = 'relu')(x)\n",
    "    x = Dropout(rate = 0.2, seed = 0)(x)\n",
    "    output = Dense(class_count, activation = 'softmax')(x)\n",
    "    \n",
    "    model = Model(inputs = base_model.input, outputs = output)\n",
    "    \n",
    "    model.compile(tf.keras.optimizers.Adam(learning_rate = 0.0001), \n",
    "                  loss = 'categorical_crossentropy', \n",
    "                  metrics = ['accuracy'])\n",
    "    \n",
    "    return model"
   ]
  },
  {
   "cell_type": "code",
   "execution_count": 10,
   "id": "86e104fb",
   "metadata": {
    "execution": {
     "iopub.execute_input": "2024-06-16T10:31:49.814234Z",
     "iopub.status.busy": "2024-06-16T10:31:49.813986Z",
     "iopub.status.idle": "2024-06-16T10:31:49.822849Z",
     "shell.execute_reply": "2024-06-16T10:31:49.822012Z"
    },
    "papermill": {
     "duration": 0.020539,
     "end_time": "2024-06-16T10:31:49.824743",
     "exception": false,
     "start_time": "2024-06-16T10:31:49.804204",
     "status": "completed"
    },
    "tags": []
   },
   "outputs": [],
   "source": [
    "# Function to train and evaluate a model\n",
    "def train_and_evaluate_model(model, train_data, val_data, test_data, model_name):\n",
    "    #early_stopper = tf.keras.callbacks.EarlyStopping(patience=5, min_delta=0.01, verbose=1)\n",
    "    #history = model.fit(train_data, epochs=60, validation_data=val_data, callbacks=[early_stopper])\n",
    "    history = model.fit(train_data, epochs=60, validation_data=val_data)\n",
    "\n",
    "    test_loss, test_accuracy = model.evaluate(test_data)\n",
    "    print(f\"Test Accuracy for {model_name}:\", test_accuracy)\n",
    "\n",
    "    test_data_array = []\n",
    "    labels_array = []\n",
    "    for images, labels in test_data:\n",
    "        test_data_array.append(images.numpy())\n",
    "        labels_array.append(labels.numpy())\n",
    "\n",
    "    X_test = np.concatenate(test_data_array, axis=0)\n",
    "    y_test = np.concatenate(labels_array, axis=0)\n",
    "\n",
    "    y_pred = model.predict(X_test)\n",
    "    y_pred = np.argmax(y_pred, axis=1)\n",
    "    y_pred = tf.keras.utils.to_categorical(y_pred, num_classes=2)\n",
    "\n",
    "    print(classification_report(y_test, y_pred))\n",
    "\n",
    "    y_pred = np.argmax(y_pred, axis=1)\n",
    "    y_test = np.argmax(y_test, axis=1)\n",
    "\n",
    "    cm = confusion_matrix(y_test, y_pred)\n",
    "\n",
    "    plt.figure(figsize=(10, 7))\n",
    "    sns.heatmap(cm, cmap='crest', annot=True, fmt='d', xticklabels=class_names, yticklabels=class_names)\n",
    "    plt.title(f'Confusion Matrix for {model_name}')\n",
    "    plt.show()"
   ]
  },
  {
   "cell_type": "markdown",
   "id": "7a2ab3cf",
   "metadata": {
    "papermill": {
     "duration": 0.008785,
     "end_time": "2024-06-16T10:31:49.842606",
     "exception": false,
     "start_time": "2024-06-16T10:31:49.833821",
     "status": "completed"
    },
    "tags": []
   },
   "source": [
    "# InceptionV3"
   ]
  },
  {
   "cell_type": "code",
   "execution_count": 11,
   "id": "25aca796",
   "metadata": {
    "execution": {
     "iopub.execute_input": "2024-06-16T10:31:49.862003Z",
     "iopub.status.busy": "2024-06-16T10:31:49.861655Z",
     "iopub.status.idle": "2024-06-16T10:36:52.773230Z",
     "shell.execute_reply": "2024-06-16T10:36:52.772272Z"
    },
    "papermill": {
     "duration": 302.923831,
     "end_time": "2024-06-16T10:36:52.775407",
     "exception": false,
     "start_time": "2024-06-16T10:31:49.851576",
     "status": "completed"
    },
    "tags": []
   },
   "outputs": [
    {
     "name": "stdout",
     "output_type": "stream",
     "text": [
      "Downloading data from https://storage.googleapis.com/tensorflow/keras-applications/inception_v3/inception_v3_weights_tf_dim_ordering_tf_kernels_notop.h5\n",
      "\u001b[1m87910968/87910968\u001b[0m \u001b[32m━━━━━━━━━━━━━━━━━━━━\u001b[0m\u001b[37m\u001b[0m \u001b[1m0s\u001b[0m 0us/step\n",
      "Epoch 1/60\n"
     ]
    },
    {
     "name": "stderr",
     "output_type": "stream",
     "text": [
      "WARNING: All log messages before absl::InitializeLog() is called are written to STDERR\n",
      "I0000 00:00:1718534001.654347      80 device_compiler.h:186] Compiled cluster using XLA!  This line is logged at most once for the lifetime of the process.\n"
     ]
    },
    {
     "name": "stdout",
     "output_type": "stream",
     "text": [
      "\u001b[1m14/14\u001b[0m \u001b[32m━━━━━━━━━━━━━━━━━━━━\u001b[0m\u001b[37m\u001b[0m \u001b[1m150s\u001b[0m 5s/step - accuracy: 0.6123 - loss: 0.8188 - val_accuracy: 0.5283 - val_loss: 1.0505\n",
      "Epoch 2/60\n",
      "\u001b[1m14/14\u001b[0m \u001b[32m━━━━━━━━━━━━━━━━━━━━\u001b[0m\u001b[37m\u001b[0m \u001b[1m2s\u001b[0m 152ms/step - accuracy: 0.8617 - loss: 0.3140 - val_accuracy: 0.5283 - val_loss: 1.3190\n",
      "Epoch 3/60\n",
      "\u001b[1m14/14\u001b[0m \u001b[32m━━━━━━━━━━━━━━━━━━━━\u001b[0m\u001b[37m\u001b[0m \u001b[1m2s\u001b[0m 151ms/step - accuracy: 0.9351 - loss: 0.1654 - val_accuracy: 0.4340 - val_loss: 1.3092\n",
      "Epoch 4/60\n",
      "\u001b[1m14/14\u001b[0m \u001b[32m━━━━━━━━━━━━━━━━━━━━\u001b[0m\u001b[37m\u001b[0m \u001b[1m2s\u001b[0m 154ms/step - accuracy: 0.9778 - loss: 0.0666 - val_accuracy: 0.5094 - val_loss: 1.0649\n",
      "Epoch 5/60\n",
      "\u001b[1m14/14\u001b[0m \u001b[32m━━━━━━━━━━━━━━━━━━━━\u001b[0m\u001b[37m\u001b[0m \u001b[1m2s\u001b[0m 153ms/step - accuracy: 0.9894 - loss: 0.0448 - val_accuracy: 0.5660 - val_loss: 0.8807\n",
      "Epoch 6/60\n",
      "\u001b[1m14/14\u001b[0m \u001b[32m━━━━━━━━━━━━━━━━━━━━\u001b[0m\u001b[37m\u001b[0m \u001b[1m2s\u001b[0m 152ms/step - accuracy: 0.9937 - loss: 0.0258 - val_accuracy: 0.5660 - val_loss: 0.9688\n",
      "Epoch 7/60\n",
      "\u001b[1m14/14\u001b[0m \u001b[32m━━━━━━━━━━━━━━━━━━━━\u001b[0m\u001b[37m\u001b[0m \u001b[1m2s\u001b[0m 151ms/step - accuracy: 1.0000 - loss: 0.0148 - val_accuracy: 0.5660 - val_loss: 0.9410\n",
      "Epoch 8/60\n",
      "\u001b[1m14/14\u001b[0m \u001b[32m━━━━━━━━━━━━━━━━━━━━\u001b[0m\u001b[37m\u001b[0m \u001b[1m2s\u001b[0m 150ms/step - accuracy: 0.9959 - loss: 0.0200 - val_accuracy: 0.5660 - val_loss: 0.9051\n",
      "Epoch 9/60\n",
      "\u001b[1m14/14\u001b[0m \u001b[32m━━━━━━━━━━━━━━━━━━━━\u001b[0m\u001b[37m\u001b[0m \u001b[1m2s\u001b[0m 155ms/step - accuracy: 0.9957 - loss: 0.0198 - val_accuracy: 0.6038 - val_loss: 1.0658\n",
      "Epoch 10/60\n",
      "\u001b[1m14/14\u001b[0m \u001b[32m━━━━━━━━━━━━━━━━━━━━\u001b[0m\u001b[37m\u001b[0m \u001b[1m2s\u001b[0m 152ms/step - accuracy: 1.0000 - loss: 0.0059 - val_accuracy: 0.6038 - val_loss: 1.1367\n",
      "Epoch 11/60\n",
      "\u001b[1m14/14\u001b[0m \u001b[32m━━━━━━━━━━━━━━━━━━━━\u001b[0m\u001b[37m\u001b[0m \u001b[1m2s\u001b[0m 151ms/step - accuracy: 1.0000 - loss: 0.0049 - val_accuracy: 0.6604 - val_loss: 1.1534\n",
      "Epoch 12/60\n",
      "\u001b[1m14/14\u001b[0m \u001b[32m━━━━━━━━━━━━━━━━━━━━\u001b[0m\u001b[37m\u001b[0m \u001b[1m2s\u001b[0m 153ms/step - accuracy: 1.0000 - loss: 0.0061 - val_accuracy: 0.6981 - val_loss: 1.0680\n",
      "Epoch 13/60\n",
      "\u001b[1m14/14\u001b[0m \u001b[32m━━━━━━━━━━━━━━━━━━━━\u001b[0m\u001b[37m\u001b[0m \u001b[1m2s\u001b[0m 154ms/step - accuracy: 1.0000 - loss: 0.0082 - val_accuracy: 0.7170 - val_loss: 1.1268\n",
      "Epoch 14/60\n",
      "\u001b[1m14/14\u001b[0m \u001b[32m━━━━━━━━━━━━━━━━━━━━\u001b[0m\u001b[37m\u001b[0m \u001b[1m2s\u001b[0m 156ms/step - accuracy: 0.9977 - loss: 0.0112 - val_accuracy: 0.6604 - val_loss: 1.2553\n",
      "Epoch 15/60\n",
      "\u001b[1m14/14\u001b[0m \u001b[32m━━━━━━━━━━━━━━━━━━━━\u001b[0m\u001b[37m\u001b[0m \u001b[1m2s\u001b[0m 154ms/step - accuracy: 0.9924 - loss: 0.0199 - val_accuracy: 0.6415 - val_loss: 1.2451\n",
      "Epoch 16/60\n",
      "\u001b[1m14/14\u001b[0m \u001b[32m━━━━━━━━━━━━━━━━━━━━\u001b[0m\u001b[37m\u001b[0m \u001b[1m2s\u001b[0m 152ms/step - accuracy: 0.9987 - loss: 0.0166 - val_accuracy: 0.6604 - val_loss: 1.0898\n",
      "Epoch 17/60\n",
      "\u001b[1m14/14\u001b[0m \u001b[32m━━━━━━━━━━━━━━━━━━━━\u001b[0m\u001b[37m\u001b[0m \u001b[1m2s\u001b[0m 150ms/step - accuracy: 1.0000 - loss: 0.0161 - val_accuracy: 0.7547 - val_loss: 0.9427\n",
      "Epoch 18/60\n",
      "\u001b[1m14/14\u001b[0m \u001b[32m━━━━━━━━━━━━━━━━━━━━\u001b[0m\u001b[37m\u001b[0m \u001b[1m2s\u001b[0m 153ms/step - accuracy: 0.9997 - loss: 0.0146 - val_accuracy: 0.7358 - val_loss: 0.8179\n",
      "Epoch 19/60\n",
      "\u001b[1m14/14\u001b[0m \u001b[32m━━━━━━━━━━━━━━━━━━━━\u001b[0m\u001b[37m\u001b[0m \u001b[1m2s\u001b[0m 150ms/step - accuracy: 0.9900 - loss: 0.0204 - val_accuracy: 0.6981 - val_loss: 1.1225\n",
      "Epoch 20/60\n",
      "\u001b[1m14/14\u001b[0m \u001b[32m━━━━━━━━━━━━━━━━━━━━\u001b[0m\u001b[37m\u001b[0m \u001b[1m2s\u001b[0m 151ms/step - accuracy: 0.9962 - loss: 0.0143 - val_accuracy: 0.6792 - val_loss: 1.1399\n",
      "Epoch 21/60\n",
      "\u001b[1m14/14\u001b[0m \u001b[32m━━━━━━━━━━━━━━━━━━━━\u001b[0m\u001b[37m\u001b[0m \u001b[1m2s\u001b[0m 154ms/step - accuracy: 0.9979 - loss: 0.0165 - val_accuracy: 0.6604 - val_loss: 1.5421\n",
      "Epoch 22/60\n",
      "\u001b[1m14/14\u001b[0m \u001b[32m━━━━━━━━━━━━━━━━━━━━\u001b[0m\u001b[37m\u001b[0m \u001b[1m2s\u001b[0m 156ms/step - accuracy: 0.9966 - loss: 0.0087 - val_accuracy: 0.6415 - val_loss: 1.5231\n",
      "Epoch 23/60\n",
      "\u001b[1m14/14\u001b[0m \u001b[32m━━━━━━━━━━━━━━━━━━━━\u001b[0m\u001b[37m\u001b[0m \u001b[1m2s\u001b[0m 155ms/step - accuracy: 0.9983 - loss: 0.0105 - val_accuracy: 0.5660 - val_loss: 1.7268\n",
      "Epoch 24/60\n",
      "\u001b[1m14/14\u001b[0m \u001b[32m━━━━━━━━━━━━━━━━━━━━\u001b[0m\u001b[37m\u001b[0m \u001b[1m2s\u001b[0m 152ms/step - accuracy: 0.9852 - loss: 0.0246 - val_accuracy: 0.6792 - val_loss: 1.6282\n",
      "Epoch 25/60\n",
      "\u001b[1m14/14\u001b[0m \u001b[32m━━━━━━━━━━━━━━━━━━━━\u001b[0m\u001b[37m\u001b[0m \u001b[1m2s\u001b[0m 151ms/step - accuracy: 0.9901 - loss: 0.0602 - val_accuracy: 0.6415 - val_loss: 1.3455\n",
      "Epoch 26/60\n",
      "\u001b[1m14/14\u001b[0m \u001b[32m━━━━━━━━━━━━━━━━━━━━\u001b[0m\u001b[37m\u001b[0m \u001b[1m2s\u001b[0m 154ms/step - accuracy: 0.9981 - loss: 0.0090 - val_accuracy: 0.6415 - val_loss: 1.6601\n",
      "Epoch 27/60\n",
      "\u001b[1m14/14\u001b[0m \u001b[32m━━━━━━━━━━━━━━━━━━━━\u001b[0m\u001b[37m\u001b[0m \u001b[1m2s\u001b[0m 153ms/step - accuracy: 0.9954 - loss: 0.0235 - val_accuracy: 0.6792 - val_loss: 1.7655\n",
      "Epoch 28/60\n",
      "\u001b[1m14/14\u001b[0m \u001b[32m━━━━━━━━━━━━━━━━━━━━\u001b[0m\u001b[37m\u001b[0m \u001b[1m2s\u001b[0m 158ms/step - accuracy: 0.9790 - loss: 0.0906 - val_accuracy: 0.6604 - val_loss: 2.0206\n",
      "Epoch 29/60\n",
      "\u001b[1m14/14\u001b[0m \u001b[32m━━━━━━━━━━━━━━━━━━━━\u001b[0m\u001b[37m\u001b[0m \u001b[1m2s\u001b[0m 151ms/step - accuracy: 0.9727 - loss: 0.0715 - val_accuracy: 0.6415 - val_loss: 1.9604\n",
      "Epoch 30/60\n",
      "\u001b[1m14/14\u001b[0m \u001b[32m━━━━━━━━━━━━━━━━━━━━\u001b[0m\u001b[37m\u001b[0m \u001b[1m2s\u001b[0m 153ms/step - accuracy: 0.9626 - loss: 0.1078 - val_accuracy: 0.6226 - val_loss: 1.9203\n",
      "Epoch 31/60\n",
      "\u001b[1m14/14\u001b[0m \u001b[32m━━━━━━━━━━━━━━━━━━━━\u001b[0m\u001b[37m\u001b[0m \u001b[1m2s\u001b[0m 152ms/step - accuracy: 0.9635 - loss: 0.0884 - val_accuracy: 0.6415 - val_loss: 1.3639\n",
      "Epoch 32/60\n",
      "\u001b[1m14/14\u001b[0m \u001b[32m━━━━━━━━━━━━━━━━━━━━\u001b[0m\u001b[37m\u001b[0m \u001b[1m2s\u001b[0m 153ms/step - accuracy: 0.9589 - loss: 0.0909 - val_accuracy: 0.5849 - val_loss: 1.9166\n",
      "Epoch 33/60\n",
      "\u001b[1m14/14\u001b[0m \u001b[32m━━━━━━━━━━━━━━━━━━━━\u001b[0m\u001b[37m\u001b[0m \u001b[1m2s\u001b[0m 152ms/step - accuracy: 0.9791 - loss: 0.0646 - val_accuracy: 0.6981 - val_loss: 1.9327\n",
      "Epoch 34/60\n",
      "\u001b[1m14/14\u001b[0m \u001b[32m━━━━━━━━━━━━━━━━━━━━\u001b[0m\u001b[37m\u001b[0m \u001b[1m2s\u001b[0m 151ms/step - accuracy: 0.9891 - loss: 0.0531 - val_accuracy: 0.6604 - val_loss: 2.1016\n",
      "Epoch 35/60\n",
      "\u001b[1m14/14\u001b[0m \u001b[32m━━━━━━━━━━━━━━━━━━━━\u001b[0m\u001b[37m\u001b[0m \u001b[1m2s\u001b[0m 154ms/step - accuracy: 0.9943 - loss: 0.0268 - val_accuracy: 0.6792 - val_loss: 2.3060\n",
      "Epoch 36/60\n",
      "\u001b[1m14/14\u001b[0m \u001b[32m━━━━━━━━━━━━━━━━━━━━\u001b[0m\u001b[37m\u001b[0m \u001b[1m2s\u001b[0m 155ms/step - accuracy: 0.9847 - loss: 0.0431 - val_accuracy: 0.6604 - val_loss: 2.6606\n",
      "Epoch 37/60\n",
      "\u001b[1m14/14\u001b[0m \u001b[32m━━━━━━━━━━━━━━━━━━━━\u001b[0m\u001b[37m\u001b[0m \u001b[1m2s\u001b[0m 152ms/step - accuracy: 0.9981 - loss: 0.0122 - val_accuracy: 0.6415 - val_loss: 2.6076\n",
      "Epoch 38/60\n",
      "\u001b[1m14/14\u001b[0m \u001b[32m━━━━━━━━━━━━━━━━━━━━\u001b[0m\u001b[37m\u001b[0m \u001b[1m2s\u001b[0m 152ms/step - accuracy: 0.9921 - loss: 0.0358 - val_accuracy: 0.6226 - val_loss: 2.5887\n",
      "Epoch 39/60\n",
      "\u001b[1m14/14\u001b[0m \u001b[32m━━━━━━━━━━━━━━━━━━━━\u001b[0m\u001b[37m\u001b[0m \u001b[1m2s\u001b[0m 152ms/step - accuracy: 0.9910 - loss: 0.0303 - val_accuracy: 0.6604 - val_loss: 2.3094\n",
      "Epoch 40/60\n",
      "\u001b[1m14/14\u001b[0m \u001b[32m━━━━━━━━━━━━━━━━━━━━\u001b[0m\u001b[37m\u001b[0m \u001b[1m2s\u001b[0m 152ms/step - accuracy: 0.9899 - loss: 0.0207 - val_accuracy: 0.6604 - val_loss: 2.2628\n",
      "Epoch 41/60\n",
      "\u001b[1m14/14\u001b[0m \u001b[32m━━━━━━━━━━━━━━━━━━━━\u001b[0m\u001b[37m\u001b[0m \u001b[1m2s\u001b[0m 154ms/step - accuracy: 0.9938 - loss: 0.0243 - val_accuracy: 0.6415 - val_loss: 2.1944\n",
      "Epoch 42/60\n",
      "\u001b[1m14/14\u001b[0m \u001b[32m━━━━━━━━━━━━━━━━━━━━\u001b[0m\u001b[37m\u001b[0m \u001b[1m2s\u001b[0m 158ms/step - accuracy: 0.9859 - loss: 0.0348 - val_accuracy: 0.6792 - val_loss: 1.9893\n",
      "Epoch 43/60\n",
      "\u001b[1m14/14\u001b[0m \u001b[32m━━━━━━━━━━━━━━━━━━━━\u001b[0m\u001b[37m\u001b[0m \u001b[1m2s\u001b[0m 151ms/step - accuracy: 0.9861 - loss: 0.0314 - val_accuracy: 0.7358 - val_loss: 1.8650\n",
      "Epoch 44/60\n",
      "\u001b[1m14/14\u001b[0m \u001b[32m━━━━━━━━━━━━━━━━━━━━\u001b[0m\u001b[37m\u001b[0m \u001b[1m2s\u001b[0m 151ms/step - accuracy: 0.9891 - loss: 0.0535 - val_accuracy: 0.6981 - val_loss: 1.6517\n",
      "Epoch 45/60\n",
      "\u001b[1m14/14\u001b[0m \u001b[32m━━━━━━━━━━━━━━━━━━━━\u001b[0m\u001b[37m\u001b[0m \u001b[1m2s\u001b[0m 153ms/step - accuracy: 0.9864 - loss: 0.0658 - val_accuracy: 0.6792 - val_loss: 1.7394\n",
      "Epoch 46/60\n",
      "\u001b[1m14/14\u001b[0m \u001b[32m━━━━━━━━━━━━━━━━━━━━\u001b[0m\u001b[37m\u001b[0m \u001b[1m2s\u001b[0m 152ms/step - accuracy: 0.9987 - loss: 0.0092 - val_accuracy: 0.6604 - val_loss: 1.8953\n",
      "Epoch 47/60\n",
      "\u001b[1m14/14\u001b[0m \u001b[32m━━━━━━━━━━━━━━━━━━━━\u001b[0m\u001b[37m\u001b[0m \u001b[1m2s\u001b[0m 151ms/step - accuracy: 0.9894 - loss: 0.0155 - val_accuracy: 0.6038 - val_loss: 1.8559\n",
      "Epoch 48/60\n",
      "\u001b[1m14/14\u001b[0m \u001b[32m━━━━━━━━━━━━━━━━━━━━\u001b[0m\u001b[37m\u001b[0m \u001b[1m2s\u001b[0m 153ms/step - accuracy: 0.9931 - loss: 0.0130 - val_accuracy: 0.6604 - val_loss: 1.8561\n",
      "Epoch 49/60\n",
      "\u001b[1m14/14\u001b[0m \u001b[32m━━━━━━━━━━━━━━━━━━━━\u001b[0m\u001b[37m\u001b[0m \u001b[1m2s\u001b[0m 153ms/step - accuracy: 0.9982 - loss: 0.0091 - val_accuracy: 0.6604 - val_loss: 1.6523\n",
      "Epoch 50/60\n",
      "\u001b[1m14/14\u001b[0m \u001b[32m━━━━━━━━━━━━━━━━━━━━\u001b[0m\u001b[37m\u001b[0m \u001b[1m2s\u001b[0m 150ms/step - accuracy: 0.9947 - loss: 0.0157 - val_accuracy: 0.6792 - val_loss: 1.6181\n",
      "Epoch 51/60\n",
      "\u001b[1m14/14\u001b[0m \u001b[32m━━━━━━━━━━━━━━━━━━━━\u001b[0m\u001b[37m\u001b[0m \u001b[1m2s\u001b[0m 150ms/step - accuracy: 1.0000 - loss: 0.0027 - val_accuracy: 0.6604 - val_loss: 1.5617\n",
      "Epoch 52/60\n",
      "\u001b[1m14/14\u001b[0m \u001b[32m━━━━━━━━━━━━━━━━━━━━\u001b[0m\u001b[37m\u001b[0m \u001b[1m2s\u001b[0m 152ms/step - accuracy: 1.0000 - loss: 0.0016 - val_accuracy: 0.6604 - val_loss: 1.7533\n",
      "Epoch 53/60\n",
      "\u001b[1m14/14\u001b[0m \u001b[32m━━━━━━━━━━━━━━━━━━━━\u001b[0m\u001b[37m\u001b[0m \u001b[1m2s\u001b[0m 151ms/step - accuracy: 1.0000 - loss: 0.0016 - val_accuracy: 0.6792 - val_loss: 1.8305\n",
      "Epoch 54/60\n",
      "\u001b[1m14/14\u001b[0m \u001b[32m━━━━━━━━━━━━━━━━━━━━\u001b[0m\u001b[37m\u001b[0m \u001b[1m2s\u001b[0m 152ms/step - accuracy: 0.9991 - loss: 0.0047 - val_accuracy: 0.6415 - val_loss: 1.8484\n",
      "Epoch 55/60\n",
      "\u001b[1m14/14\u001b[0m \u001b[32m━━━━━━━━━━━━━━━━━━━━\u001b[0m\u001b[37m\u001b[0m \u001b[1m2s\u001b[0m 152ms/step - accuracy: 0.9963 - loss: 0.0070 - val_accuracy: 0.5660 - val_loss: 2.4386\n",
      "Epoch 56/60\n",
      "\u001b[1m14/14\u001b[0m \u001b[32m━━━━━━━━━━━━━━━━━━━━\u001b[0m\u001b[37m\u001b[0m \u001b[1m2s\u001b[0m 155ms/step - accuracy: 0.9952 - loss: 0.0131 - val_accuracy: 0.5849 - val_loss: 2.4607\n",
      "Epoch 57/60\n",
      "\u001b[1m14/14\u001b[0m \u001b[32m━━━━━━━━━━━━━━━━━━━━\u001b[0m\u001b[37m\u001b[0m \u001b[1m2s\u001b[0m 155ms/step - accuracy: 0.9924 - loss: 0.0255 - val_accuracy: 0.6981 - val_loss: 2.5147\n",
      "Epoch 58/60\n",
      "\u001b[1m14/14\u001b[0m \u001b[32m━━━━━━━━━━━━━━━━━━━━\u001b[0m\u001b[37m\u001b[0m \u001b[1m2s\u001b[0m 150ms/step - accuracy: 0.9933 - loss: 0.0152 - val_accuracy: 0.7358 - val_loss: 2.3361\n",
      "Epoch 59/60\n",
      "\u001b[1m14/14\u001b[0m \u001b[32m━━━━━━━━━━━━━━━━━━━━\u001b[0m\u001b[37m\u001b[0m \u001b[1m2s\u001b[0m 153ms/step - accuracy: 0.9891 - loss: 0.0267 - val_accuracy: 0.6415 - val_loss: 2.2912\n",
      "Epoch 60/60\n",
      "\u001b[1m14/14\u001b[0m \u001b[32m━━━━━━━━━━━━━━━━━━━━\u001b[0m\u001b[37m\u001b[0m \u001b[1m2s\u001b[0m 154ms/step - accuracy: 0.9987 - loss: 0.0075 - val_accuracy: 0.6604 - val_loss: 2.3212\n",
      "\u001b[1m2/2\u001b[0m \u001b[32m━━━━━━━━━━━━━━━━━━━━\u001b[0m\u001b[37m\u001b[0m \u001b[1m9s\u001b[0m 8s/step - accuracy: 0.8843 - loss: 0.5964\n",
      "Test Accuracy for InceptionV3: 0.8421052694320679\n",
      "\u001b[1m2/2\u001b[0m \u001b[32m━━━━━━━━━━━━━━━━━━━━\u001b[0m\u001b[37m\u001b[0m \u001b[1m11s\u001b[0m 6s/step\n",
      "              precision    recall  f1-score   support\n",
      "\n",
      "           0       0.80      0.97      0.88        34\n",
      "           1       0.94      0.65      0.77        23\n",
      "\n",
      "   micro avg       0.84      0.84      0.84        57\n",
      "   macro avg       0.87      0.81      0.82        57\n",
      "weighted avg       0.86      0.84      0.84        57\n",
      " samples avg       0.84      0.84      0.84        57\n",
      "\n"
     ]
    },
    {
     "data": {
      "image/png": "[encoded data removed]",
      "text/plain": [
       "<Figure size 1000x700 with 2 Axes>"
      ]
     },
     "metadata": {},
     "output_type": "display_data"
    }
   ],
   "source": [
    "model_name = \"InceptionV3\"\n",
    "model = create_model(model_name)\n",
    "train_and_evaluate_model(model, train_data, val_data, test_data, model_name)"
   ]
  },
  {
   "cell_type": "markdown",
   "id": "73fa0340",
   "metadata": {
    "papermill": {
     "duration": 0.084424,
     "end_time": "2024-06-16T10:36:52.945496",
     "exception": false,
     "start_time": "2024-06-16T10:36:52.861072",
     "status": "completed"
    },
    "tags": []
   },
   "source": [
    "# ResNet50 "
   ]
  },
  {
   "cell_type": "code",
   "execution_count": 12,
   "id": "4cfabce1",
   "metadata": {
    "execution": {
     "iopub.execute_input": "2024-06-16T10:36:53.159460Z",
     "iopub.status.busy": "2024-06-16T10:36:53.159092Z",
     "iopub.status.idle": "2024-06-16T10:41:11.549620Z",
     "shell.execute_reply": "2024-06-16T10:41:11.548651Z"
    },
    "papermill": {
     "duration": 258.572924,
     "end_time": "2024-06-16T10:41:11.645661",
     "exception": false,
     "start_time": "2024-06-16T10:36:53.072737",
     "status": "completed"
    },
    "tags": []
   },
   "outputs": [
    {
     "name": "stdout",
     "output_type": "stream",
     "text": [
      "Downloading data from https://storage.googleapis.com/tensorflow/keras-applications/resnet/resnet50_weights_tf_dim_ordering_tf_kernels_notop.h5\n",
      "\u001b[1m94765736/94765736\u001b[0m \u001b[32m━━━━━━━━━━━━━━━━━━━━\u001b[0m\u001b[37m\u001b[0m \u001b[1m1s\u001b[0m 0us/step\n",
      "Epoch 1/60\n",
      "\u001b[1m14/14\u001b[0m \u001b[32m━━━━━━━━━━━━━━━━━━━━\u001b[0m\u001b[37m\u001b[0m \u001b[1m111s\u001b[0m 3s/step - accuracy: 0.5500 - loss: 1.0100 - val_accuracy: 0.4906 - val_loss: 1.2013\n",
      "Epoch 2/60\n",
      "\u001b[1m14/14\u001b[0m \u001b[32m━━━━━━━━━━━━━━━━━━━━\u001b[0m\u001b[37m\u001b[0m \u001b[1m2s\u001b[0m 157ms/step - accuracy: 0.8831 - loss: 0.2637 - val_accuracy: 0.4528 - val_loss: 1.1739\n",
      "Epoch 3/60\n",
      "\u001b[1m14/14\u001b[0m \u001b[32m━━━━━━━━━━━━━━━━━━━━\u001b[0m\u001b[37m\u001b[0m \u001b[1m2s\u001b[0m 157ms/step - accuracy: 0.9845 - loss: 0.0839 - val_accuracy: 0.5283 - val_loss: 0.8520\n",
      "Epoch 4/60\n",
      "\u001b[1m14/14\u001b[0m \u001b[32m━━━━━━━━━━━━━━━━━━━━\u001b[0m\u001b[37m\u001b[0m \u001b[1m2s\u001b[0m 156ms/step - accuracy: 0.9937 - loss: 0.0448 - val_accuracy: 0.5472 - val_loss: 0.8008\n",
      "Epoch 5/60\n",
      "\u001b[1m14/14\u001b[0m \u001b[32m━━━━━━━━━━━━━━━━━━━━\u001b[0m\u001b[37m\u001b[0m \u001b[1m2s\u001b[0m 156ms/step - accuracy: 0.9968 - loss: 0.0168 - val_accuracy: 0.5472 - val_loss: 0.8900\n",
      "Epoch 6/60\n",
      "\u001b[1m14/14\u001b[0m \u001b[32m━━━━━━━━━━━━━━━━━━━━\u001b[0m\u001b[37m\u001b[0m \u001b[1m2s\u001b[0m 156ms/step - accuracy: 1.0000 - loss: 0.0122 - val_accuracy: 0.5849 - val_loss: 0.9741\n",
      "Epoch 7/60\n",
      "\u001b[1m14/14\u001b[0m \u001b[32m━━━━━━━━━━━━━━━━━━━━\u001b[0m\u001b[37m\u001b[0m \u001b[1m2s\u001b[0m 155ms/step - accuracy: 1.0000 - loss: 0.0151 - val_accuracy: 0.6226 - val_loss: 1.0528\n",
      "Epoch 8/60\n",
      "\u001b[1m14/14\u001b[0m \u001b[32m━━━━━━━━━━━━━━━━━━━━\u001b[0m\u001b[37m\u001b[0m \u001b[1m2s\u001b[0m 157ms/step - accuracy: 1.0000 - loss: 0.0043 - val_accuracy: 0.6226 - val_loss: 1.1429\n",
      "Epoch 9/60\n",
      "\u001b[1m14/14\u001b[0m \u001b[32m━━━━━━━━━━━━━━━━━━━━\u001b[0m\u001b[37m\u001b[0m \u001b[1m2s\u001b[0m 156ms/step - accuracy: 1.0000 - loss: 0.0028 - val_accuracy: 0.6226 - val_loss: 1.2278\n",
      "Epoch 10/60\n",
      "\u001b[1m14/14\u001b[0m \u001b[32m━━━━━━━━━━━━━━━━━━━━\u001b[0m\u001b[37m\u001b[0m \u001b[1m2s\u001b[0m 156ms/step - accuracy: 0.9982 - loss: 0.0065 - val_accuracy: 0.6226 - val_loss: 1.2753\n",
      "Epoch 11/60\n",
      "\u001b[1m14/14\u001b[0m \u001b[32m━━━━━━━━━━━━━━━━━━━━\u001b[0m\u001b[37m\u001b[0m \u001b[1m2s\u001b[0m 156ms/step - accuracy: 1.0000 - loss: 0.0066 - val_accuracy: 0.6038 - val_loss: 1.2872\n",
      "Epoch 12/60\n",
      "\u001b[1m14/14\u001b[0m \u001b[32m━━━━━━━━━━━━━━━━━━━━\u001b[0m\u001b[37m\u001b[0m \u001b[1m2s\u001b[0m 155ms/step - accuracy: 1.0000 - loss: 0.0040 - val_accuracy: 0.6038 - val_loss: 1.3177\n",
      "Epoch 13/60\n",
      "\u001b[1m14/14\u001b[0m \u001b[32m━━━━━━━━━━━━━━━━━━━━\u001b[0m\u001b[37m\u001b[0m \u001b[1m2s\u001b[0m 156ms/step - accuracy: 0.9997 - loss: 0.0040 - val_accuracy: 0.6038 - val_loss: 1.3456\n",
      "Epoch 14/60\n",
      "\u001b[1m14/14\u001b[0m \u001b[32m━━━━━━━━━━━━━━━━━━━━\u001b[0m\u001b[37m\u001b[0m \u001b[1m2s\u001b[0m 156ms/step - accuracy: 1.0000 - loss: 0.0027 - val_accuracy: 0.5849 - val_loss: 1.1784\n",
      "Epoch 15/60\n",
      "\u001b[1m14/14\u001b[0m \u001b[32m━━━━━━━━━━━━━━━━━━━━\u001b[0m\u001b[37m\u001b[0m \u001b[1m2s\u001b[0m 156ms/step - accuracy: 0.9985 - loss: 0.0100 - val_accuracy: 0.6038 - val_loss: 1.2383\n",
      "Epoch 16/60\n",
      "\u001b[1m14/14\u001b[0m \u001b[32m━━━━━━━━━━━━━━━━━━━━\u001b[0m\u001b[37m\u001b[0m \u001b[1m2s\u001b[0m 155ms/step - accuracy: 1.0000 - loss: 0.0051 - val_accuracy: 0.6226 - val_loss: 1.2151\n",
      "Epoch 17/60\n",
      "\u001b[1m14/14\u001b[0m \u001b[32m━━━━━━━━━━━━━━━━━━━━\u001b[0m\u001b[37m\u001b[0m \u001b[1m2s\u001b[0m 156ms/step - accuracy: 1.0000 - loss: 0.0058 - val_accuracy: 0.6226 - val_loss: 1.1466\n",
      "Epoch 18/60\n",
      "\u001b[1m14/14\u001b[0m \u001b[32m━━━━━━━━━━━━━━━━━━━━\u001b[0m\u001b[37m\u001b[0m \u001b[1m2s\u001b[0m 156ms/step - accuracy: 1.0000 - loss: 0.0058 - val_accuracy: 0.6226 - val_loss: 1.1782\n",
      "Epoch 19/60\n",
      "\u001b[1m14/14\u001b[0m \u001b[32m━━━━━━━━━━━━━━━━━━━━\u001b[0m\u001b[37m\u001b[0m \u001b[1m2s\u001b[0m 155ms/step - accuracy: 1.0000 - loss: 0.0038 - val_accuracy: 0.5849 - val_loss: 1.1109\n",
      "Epoch 20/60\n",
      "\u001b[1m14/14\u001b[0m \u001b[32m━━━━━━━━━━━━━━━━━━━━\u001b[0m\u001b[37m\u001b[0m \u001b[1m2s\u001b[0m 156ms/step - accuracy: 0.9938 - loss: 0.0112 - val_accuracy: 0.6038 - val_loss: 1.2131\n",
      "Epoch 21/60\n",
      "\u001b[1m14/14\u001b[0m \u001b[32m━━━━━━━━━━━━━━━━━━━━\u001b[0m\u001b[37m\u001b[0m \u001b[1m2s\u001b[0m 155ms/step - accuracy: 1.0000 - loss: 0.0032 - val_accuracy: 0.6038 - val_loss: 1.4126\n",
      "Epoch 22/60\n",
      "\u001b[1m14/14\u001b[0m \u001b[32m━━━━━━━━━━━━━━━━━━━━\u001b[0m\u001b[37m\u001b[0m \u001b[1m2s\u001b[0m 157ms/step - accuracy: 1.0000 - loss: 0.0013 - val_accuracy: 0.6415 - val_loss: 1.3598\n",
      "Epoch 23/60\n",
      "\u001b[1m14/14\u001b[0m \u001b[32m━━━━━━━━━━━━━━━━━━━━\u001b[0m\u001b[37m\u001b[0m \u001b[1m2s\u001b[0m 156ms/step - accuracy: 1.0000 - loss: 0.0060 - val_accuracy: 0.6604 - val_loss: 1.3886\n",
      "Epoch 24/60\n",
      "\u001b[1m14/14\u001b[0m \u001b[32m━━━━━━━━━━━━━━━━━━━━\u001b[0m\u001b[37m\u001b[0m \u001b[1m2s\u001b[0m 155ms/step - accuracy: 1.0000 - loss: 0.0022 - val_accuracy: 0.6604 - val_loss: 1.3831\n",
      "Epoch 25/60\n",
      "\u001b[1m14/14\u001b[0m \u001b[32m━━━━━━━━━━━━━━━━━━━━\u001b[0m\u001b[37m\u001b[0m \u001b[1m2s\u001b[0m 156ms/step - accuracy: 1.0000 - loss: 0.0013 - val_accuracy: 0.6792 - val_loss: 1.3393\n",
      "Epoch 26/60\n",
      "\u001b[1m14/14\u001b[0m \u001b[32m━━━━━━━━━━━━━━━━━━━━\u001b[0m\u001b[37m\u001b[0m \u001b[1m2s\u001b[0m 157ms/step - accuracy: 1.0000 - loss: 0.0013 - val_accuracy: 0.6792 - val_loss: 1.2996\n",
      "Epoch 27/60\n",
      "\u001b[1m14/14\u001b[0m \u001b[32m━━━━━━━━━━━━━━━━━━━━\u001b[0m\u001b[37m\u001b[0m \u001b[1m2s\u001b[0m 155ms/step - accuracy: 1.0000 - loss: 0.0010 - val_accuracy: 0.6604 - val_loss: 1.2713\n",
      "Epoch 28/60\n",
      "\u001b[1m14/14\u001b[0m \u001b[32m━━━━━━━━━━━━━━━━━━━━\u001b[0m\u001b[37m\u001b[0m \u001b[1m2s\u001b[0m 156ms/step - accuracy: 1.0000 - loss: 9.6027e-04 - val_accuracy: 0.6415 - val_loss: 1.2831\n",
      "Epoch 29/60\n",
      "\u001b[1m14/14\u001b[0m \u001b[32m━━━━━━━━━━━━━━━━━━━━\u001b[0m\u001b[37m\u001b[0m \u001b[1m2s\u001b[0m 156ms/step - accuracy: 1.0000 - loss: 4.4365e-04 - val_accuracy: 0.6415 - val_loss: 1.2975\n",
      "Epoch 30/60\n",
      "\u001b[1m14/14\u001b[0m \u001b[32m━━━━━━━━━━━━━━━━━━━━\u001b[0m\u001b[37m\u001b[0m \u001b[1m2s\u001b[0m 155ms/step - accuracy: 1.0000 - loss: 0.0019 - val_accuracy: 0.6226 - val_loss: 1.4166\n",
      "Epoch 31/60\n",
      "\u001b[1m14/14\u001b[0m \u001b[32m━━━━━━━━━━━━━━━━━━━━\u001b[0m\u001b[37m\u001b[0m \u001b[1m2s\u001b[0m 156ms/step - accuracy: 1.0000 - loss: 4.5556e-04 - val_accuracy: 0.6226 - val_loss: 1.4582\n",
      "Epoch 32/60\n",
      "\u001b[1m14/14\u001b[0m \u001b[32m━━━━━━━━━━━━━━━━━━━━\u001b[0m\u001b[37m\u001b[0m \u001b[1m2s\u001b[0m 158ms/step - accuracy: 1.0000 - loss: 7.4424e-04 - val_accuracy: 0.6226 - val_loss: 1.4261\n",
      "Epoch 33/60\n",
      "\u001b[1m14/14\u001b[0m \u001b[32m━━━━━━━━━━━━━━━━━━━━\u001b[0m\u001b[37m\u001b[0m \u001b[1m2s\u001b[0m 155ms/step - accuracy: 1.0000 - loss: 4.3436e-04 - val_accuracy: 0.6226 - val_loss: 1.3981\n",
      "Epoch 34/60\n",
      "\u001b[1m14/14\u001b[0m \u001b[32m━━━━━━━━━━━━━━━━━━━━\u001b[0m\u001b[37m\u001b[0m \u001b[1m2s\u001b[0m 156ms/step - accuracy: 1.0000 - loss: 3.7866e-04 - val_accuracy: 0.6604 - val_loss: 1.3591\n",
      "Epoch 35/60\n",
      "\u001b[1m14/14\u001b[0m \u001b[32m━━━━━━━━━━━━━━━━━━━━\u001b[0m\u001b[37m\u001b[0m \u001b[1m2s\u001b[0m 156ms/step - accuracy: 1.0000 - loss: 3.2485e-04 - val_accuracy: 0.6981 - val_loss: 1.3427\n",
      "Epoch 36/60\n",
      "\u001b[1m14/14\u001b[0m \u001b[32m━━━━━━━━━━━━━━━━━━━━\u001b[0m\u001b[37m\u001b[0m \u001b[1m2s\u001b[0m 160ms/step - accuracy: 1.0000 - loss: 4.3938e-04 - val_accuracy: 0.6792 - val_loss: 1.3400\n",
      "Epoch 37/60\n",
      "\u001b[1m14/14\u001b[0m \u001b[32m━━━━━━━━━━━━━━━━━━━━\u001b[0m\u001b[37m\u001b[0m \u001b[1m2s\u001b[0m 156ms/step - accuracy: 1.0000 - loss: 2.9087e-04 - val_accuracy: 0.6604 - val_loss: 1.3244\n",
      "Epoch 38/60\n",
      "\u001b[1m14/14\u001b[0m \u001b[32m━━━━━━━━━━━━━━━━━━━━\u001b[0m\u001b[37m\u001b[0m \u001b[1m2s\u001b[0m 155ms/step - accuracy: 1.0000 - loss: 5.5170e-04 - val_accuracy: 0.6415 - val_loss: 1.2560\n",
      "Epoch 39/60\n",
      "\u001b[1m14/14\u001b[0m \u001b[32m━━━━━━━━━━━━━━━━━━━━\u001b[0m\u001b[37m\u001b[0m \u001b[1m2s\u001b[0m 158ms/step - accuracy: 1.0000 - loss: 3.2672e-04 - val_accuracy: 0.6038 - val_loss: 1.2213\n",
      "Epoch 40/60\n",
      "\u001b[1m14/14\u001b[0m \u001b[32m━━━━━━━━━━━━━━━━━━━━\u001b[0m\u001b[37m\u001b[0m \u001b[1m2s\u001b[0m 155ms/step - accuracy: 1.0000 - loss: 2.4850e-04 - val_accuracy: 0.5849 - val_loss: 1.2173\n",
      "Epoch 41/60\n",
      "\u001b[1m14/14\u001b[0m \u001b[32m━━━━━━━━━━━━━━━━━━━━\u001b[0m\u001b[37m\u001b[0m \u001b[1m2s\u001b[0m 156ms/step - accuracy: 1.0000 - loss: 7.5421e-04 - val_accuracy: 0.5660 - val_loss: 1.2315\n",
      "Epoch 42/60\n",
      "\u001b[1m14/14\u001b[0m \u001b[32m━━━━━━━━━━━━━━━━━━━━\u001b[0m\u001b[37m\u001b[0m \u001b[1m2s\u001b[0m 155ms/step - accuracy: 1.0000 - loss: 3.0676e-04 - val_accuracy: 0.5660 - val_loss: 1.2559\n",
      "Epoch 43/60\n",
      "\u001b[1m14/14\u001b[0m \u001b[32m━━━━━━━━━━━━━━━━━━━━\u001b[0m\u001b[37m\u001b[0m \u001b[1m2s\u001b[0m 157ms/step - accuracy: 1.0000 - loss: 2.4288e-04 - val_accuracy: 0.5660 - val_loss: 1.2696\n",
      "Epoch 44/60\n",
      "\u001b[1m14/14\u001b[0m \u001b[32m━━━━━━━━━━━━━━━━━━━━\u001b[0m\u001b[37m\u001b[0m \u001b[1m2s\u001b[0m 155ms/step - accuracy: 1.0000 - loss: 1.7406e-04 - val_accuracy: 0.5849 - val_loss: 1.2837\n",
      "Epoch 45/60\n",
      "\u001b[1m14/14\u001b[0m \u001b[32m━━━━━━━━━━━━━━━━━━━━\u001b[0m\u001b[37m\u001b[0m \u001b[1m2s\u001b[0m 156ms/step - accuracy: 1.0000 - loss: 7.7734e-04 - val_accuracy: 0.6038 - val_loss: 1.3097\n",
      "Epoch 46/60\n",
      "\u001b[1m14/14\u001b[0m \u001b[32m━━━━━━━━━━━━━━━━━━━━\u001b[0m\u001b[37m\u001b[0m \u001b[1m2s\u001b[0m 156ms/step - accuracy: 1.0000 - loss: 9.3081e-04 - val_accuracy: 0.6038 - val_loss: 1.3300\n",
      "Epoch 47/60\n",
      "\u001b[1m14/14\u001b[0m \u001b[32m━━━━━━━━━━━━━━━━━━━━\u001b[0m\u001b[37m\u001b[0m \u001b[1m2s\u001b[0m 159ms/step - accuracy: 1.0000 - loss: 2.4269e-04 - val_accuracy: 0.5849 - val_loss: 1.3899\n",
      "Epoch 48/60\n",
      "\u001b[1m14/14\u001b[0m \u001b[32m━━━━━━━━━━━━━━━━━━━━\u001b[0m\u001b[37m\u001b[0m \u001b[1m2s\u001b[0m 156ms/step - accuracy: 1.0000 - loss: 3.3951e-04 - val_accuracy: 0.5849 - val_loss: 1.4214\n",
      "Epoch 49/60\n",
      "\u001b[1m14/14\u001b[0m \u001b[32m━━━━━━━━━━━━━━━━━━━━\u001b[0m\u001b[37m\u001b[0m \u001b[1m2s\u001b[0m 155ms/step - accuracy: 1.0000 - loss: 6.3040e-04 - val_accuracy: 0.6226 - val_loss: 1.4285\n",
      "Epoch 50/60\n",
      "\u001b[1m14/14\u001b[0m \u001b[32m━━━━━━━━━━━━━━━━━━━━\u001b[0m\u001b[37m\u001b[0m \u001b[1m2s\u001b[0m 159ms/step - accuracy: 1.0000 - loss: 0.0016 - val_accuracy: 0.6415 - val_loss: 1.6712\n",
      "Epoch 51/60\n",
      "\u001b[1m14/14\u001b[0m \u001b[32m━━━━━━━━━━━━━━━━━━━━\u001b[0m\u001b[37m\u001b[0m \u001b[1m2s\u001b[0m 155ms/step - accuracy: 1.0000 - loss: 0.0015 - val_accuracy: 0.6038 - val_loss: 1.5937\n",
      "Epoch 52/60\n",
      "\u001b[1m14/14\u001b[0m \u001b[32m━━━━━━━━━━━━━━━━━━━━\u001b[0m\u001b[37m\u001b[0m \u001b[1m2s\u001b[0m 156ms/step - accuracy: 0.9954 - loss: 0.0085 - val_accuracy: 0.6226 - val_loss: 1.5239\n",
      "Epoch 53/60\n",
      "\u001b[1m14/14\u001b[0m \u001b[32m━━━━━━━━━━━━━━━━━━━━\u001b[0m\u001b[37m\u001b[0m \u001b[1m2s\u001b[0m 158ms/step - accuracy: 0.9978 - loss: 0.0066 - val_accuracy: 0.6226 - val_loss: 1.6630\n",
      "Epoch 54/60\n",
      "\u001b[1m14/14\u001b[0m \u001b[32m━━━━━━━━━━━━━━━━━━━━\u001b[0m\u001b[37m\u001b[0m \u001b[1m2s\u001b[0m 155ms/step - accuracy: 0.9816 - loss: 0.0404 - val_accuracy: 0.6604 - val_loss: 1.4682\n",
      "Epoch 55/60\n",
      "\u001b[1m14/14\u001b[0m \u001b[32m━━━━━━━━━━━━━━━━━━━━\u001b[0m\u001b[37m\u001b[0m \u001b[1m2s\u001b[0m 156ms/step - accuracy: 0.9650 - loss: 0.1142 - val_accuracy: 0.5660 - val_loss: 1.1766\n",
      "Epoch 56/60\n",
      "\u001b[1m14/14\u001b[0m \u001b[32m━━━━━━━━━━━━━━━━━━━━\u001b[0m\u001b[37m\u001b[0m \u001b[1m2s\u001b[0m 155ms/step - accuracy: 0.8932 - loss: 0.3119 - val_accuracy: 0.4906 - val_loss: 4.9573\n",
      "Epoch 57/60\n",
      "\u001b[1m14/14\u001b[0m \u001b[32m━━━━━━━━━━━━━━━━━━━━\u001b[0m\u001b[37m\u001b[0m \u001b[1m2s\u001b[0m 156ms/step - accuracy: 0.9487 - loss: 0.2011 - val_accuracy: 0.5283 - val_loss: 4.6783\n",
      "Epoch 58/60\n",
      "\u001b[1m14/14\u001b[0m \u001b[32m━━━━━━━━━━━━━━━━━━━━\u001b[0m\u001b[37m\u001b[0m \u001b[1m3s\u001b[0m 157ms/step - accuracy: 0.9474 - loss: 0.1586 - val_accuracy: 0.6415 - val_loss: 3.2154\n",
      "Epoch 59/60\n",
      "\u001b[1m14/14\u001b[0m \u001b[32m━━━━━━━━━━━━━━━━━━━━\u001b[0m\u001b[37m\u001b[0m \u001b[1m2s\u001b[0m 156ms/step - accuracy: 0.9637 - loss: 0.1136 - val_accuracy: 0.6792 - val_loss: 2.3504\n",
      "Epoch 60/60\n",
      "\u001b[1m14/14\u001b[0m \u001b[32m━━━━━━━━━━━━━━━━━━━━\u001b[0m\u001b[37m\u001b[0m \u001b[1m2s\u001b[0m 156ms/step - accuracy: 0.9913 - loss: 0.0265 - val_accuracy: 0.6792 - val_loss: 2.3715\n",
      "\u001b[1m2/2\u001b[0m \u001b[32m━━━━━━━━━━━━━━━━━━━━\u001b[0m\u001b[37m\u001b[0m \u001b[1m4s\u001b[0m 4s/step - accuracy: 0.8492 - loss: 0.7760\n",
      "Test Accuracy for ResNet50: 0.7894737124443054\n",
      "\u001b[1m2/2\u001b[0m \u001b[32m━━━━━━━━━━━━━━━━━━━━\u001b[0m\u001b[37m\u001b[0m \u001b[1m8s\u001b[0m 4s/step\n",
      "              precision    recall  f1-score   support\n",
      "\n",
      "           0       0.76      0.94      0.84        34\n",
      "           1       0.87      0.57      0.68        23\n",
      "\n",
      "   micro avg       0.79      0.79      0.79        57\n",
      "   macro avg       0.81      0.75      0.76        57\n",
      "weighted avg       0.80      0.79      0.78        57\n",
      " samples avg       0.79      0.79      0.79        57\n",
      "\n"
     ]
    },
    {
     "data": {
      "image/png": "[encoded data removed]",
      "text/plain": [
       "<Figure size 1000x700 with 2 Axes>"
      ]
     },
     "metadata": {},
     "output_type": "display_data"
    }
   ],
   "source": [
    "model_name = \"ResNet50\"\n",
    "model = create_model(model_name)\n",
    "train_and_evaluate_model(model, train_data, val_data, test_data, model_name)"
   ]
  },
  {
   "cell_type": "markdown",
   "id": "c84f75b9",
   "metadata": {
    "papermill": {
     "duration": 0.164535,
     "end_time": "2024-06-16T10:41:11.988192",
     "exception": false,
     "start_time": "2024-06-16T10:41:11.823657",
     "status": "completed"
    },
    "tags": []
   },
   "source": [
    "# EfficientNetB4"
   ]
  },
  {
   "cell_type": "code",
   "execution_count": 13,
   "id": "3b1df75a",
   "metadata": {
    "execution": {
     "iopub.execute_input": "2024-06-16T10:41:12.315797Z",
     "iopub.status.busy": "2024-06-16T10:41:12.314899Z",
     "iopub.status.idle": "2024-06-16T10:52:06.704198Z",
     "shell.execute_reply": "2024-06-16T10:52:06.703336Z"
    },
    "papermill": {
     "duration": 654.588549,
     "end_time": "2024-06-16T10:52:06.739459",
     "exception": false,
     "start_time": "2024-06-16T10:41:12.150910",
     "status": "completed"
    },
    "tags": []
   },
   "outputs": [
    {
     "name": "stdout",
     "output_type": "stream",
     "text": [
      "Downloading data from https://storage.googleapis.com/keras-applications/efficientnetb4_notop.h5\n",
      "\u001b[1m71686520/71686520\u001b[0m \u001b[32m━━━━━━━━━━━━━━━━━━━━\u001b[0m\u001b[37m\u001b[0m \u001b[1m0s\u001b[0m 0us/step\n",
      "Epoch 1/60\n",
      "\u001b[1m14/14\u001b[0m \u001b[32m━━━━━━━━━━━━━━━━━━━━\u001b[0m\u001b[37m\u001b[0m \u001b[1m358s\u001b[0m 12s/step - accuracy: 0.5992 - loss: 1.0097 - val_accuracy: 0.6226 - val_loss: 1.1987\n",
      "Epoch 2/60\n",
      "\u001b[1m14/14\u001b[0m \u001b[32m━━━━━━━━━━━━━━━━━━━━\u001b[0m\u001b[37m\u001b[0m \u001b[1m4s\u001b[0m 313ms/step - accuracy: 0.7914 - loss: 0.5885 - val_accuracy: 0.6604 - val_loss: 1.0034\n",
      "Epoch 3/60\n",
      "\u001b[1m14/14\u001b[0m \u001b[32m━━━━━━━━━━━━━━━━━━━━\u001b[0m\u001b[37m\u001b[0m \u001b[1m5s\u001b[0m 322ms/step - accuracy: 0.8587 - loss: 0.3069 - val_accuracy: 0.5849 - val_loss: 1.0958\n",
      "Epoch 4/60\n",
      "\u001b[1m14/14\u001b[0m \u001b[32m━━━━━━━━━━━━━━━━━━━━\u001b[0m\u001b[37m\u001b[0m \u001b[1m4s\u001b[0m 310ms/step - accuracy: 0.8869 - loss: 0.2539 - val_accuracy: 0.6038 - val_loss: 1.2327\n",
      "Epoch 5/60\n",
      "\u001b[1m14/14\u001b[0m \u001b[32m━━━━━━━━━━━━━━━━━━━━\u001b[0m\u001b[37m\u001b[0m \u001b[1m5s\u001b[0m 311ms/step - accuracy: 0.9114 - loss: 0.2254 - val_accuracy: 0.6415 - val_loss: 1.4330\n",
      "Epoch 6/60\n",
      "\u001b[1m14/14\u001b[0m \u001b[32m━━━━━━━━━━━━━━━━━━━━\u001b[0m\u001b[37m\u001b[0m \u001b[1m4s\u001b[0m 314ms/step - accuracy: 0.9363 - loss: 0.1921 - val_accuracy: 0.6415 - val_loss: 1.4452\n",
      "Epoch 7/60\n",
      "\u001b[1m14/14\u001b[0m \u001b[32m━━━━━━━━━━━━━━━━━━━━\u001b[0m\u001b[37m\u001b[0m \u001b[1m4s\u001b[0m 315ms/step - accuracy: 0.9421 - loss: 0.1881 - val_accuracy: 0.5849 - val_loss: 1.6018\n",
      "Epoch 8/60\n",
      "\u001b[1m14/14\u001b[0m \u001b[32m━━━━━━━━━━━━━━━━━━━━\u001b[0m\u001b[37m\u001b[0m \u001b[1m4s\u001b[0m 311ms/step - accuracy: 0.9500 - loss: 0.1162 - val_accuracy: 0.6038 - val_loss: 1.5573\n",
      "Epoch 9/60\n",
      "\u001b[1m14/14\u001b[0m \u001b[32m━━━━━━━━━━━━━━━━━━━━\u001b[0m\u001b[37m\u001b[0m \u001b[1m4s\u001b[0m 309ms/step - accuracy: 0.9844 - loss: 0.0802 - val_accuracy: 0.6604 - val_loss: 1.2954\n",
      "Epoch 10/60\n",
      "\u001b[1m14/14\u001b[0m \u001b[32m━━━━━━━━━━━━━━━━━━━━\u001b[0m\u001b[37m\u001b[0m \u001b[1m4s\u001b[0m 309ms/step - accuracy: 0.9679 - loss: 0.1077 - val_accuracy: 0.6226 - val_loss: 1.0621\n",
      "Epoch 11/60\n",
      "\u001b[1m14/14\u001b[0m \u001b[32m━━━━━━━━━━━━━━━━━━━━\u001b[0m\u001b[37m\u001b[0m \u001b[1m4s\u001b[0m 316ms/step - accuracy: 0.9715 - loss: 0.0856 - val_accuracy: 0.6415 - val_loss: 1.0824\n",
      "Epoch 12/60\n",
      "\u001b[1m14/14\u001b[0m \u001b[32m━━━━━━━━━━━━━━━━━━━━\u001b[0m\u001b[37m\u001b[0m \u001b[1m4s\u001b[0m 306ms/step - accuracy: 0.9918 - loss: 0.0416 - val_accuracy: 0.7170 - val_loss: 0.8441\n",
      "Epoch 13/60\n",
      "\u001b[1m14/14\u001b[0m \u001b[32m━━━━━━━━━━━━━━━━━━━━\u001b[0m\u001b[37m\u001b[0m \u001b[1m4s\u001b[0m 315ms/step - accuracy: 0.9823 - loss: 0.0894 - val_accuracy: 0.6604 - val_loss: 0.8240\n",
      "Epoch 14/60\n",
      "\u001b[1m14/14\u001b[0m \u001b[32m━━━━━━━━━━━━━━━━━━━━\u001b[0m\u001b[37m\u001b[0m \u001b[1m4s\u001b[0m 314ms/step - accuracy: 0.9715 - loss: 0.0785 - val_accuracy: 0.5660 - val_loss: 0.8323\n",
      "Epoch 15/60\n",
      "\u001b[1m14/14\u001b[0m \u001b[32m━━━━━━━━━━━━━━━━━━━━\u001b[0m\u001b[37m\u001b[0m \u001b[1m4s\u001b[0m 307ms/step - accuracy: 0.9576 - loss: 0.0995 - val_accuracy: 0.5660 - val_loss: 0.8426\n",
      "Epoch 16/60\n",
      "\u001b[1m14/14\u001b[0m \u001b[32m━━━━━━━━━━━━━━━━━━━━\u001b[0m\u001b[37m\u001b[0m \u001b[1m4s\u001b[0m 312ms/step - accuracy: 0.9793 - loss: 0.0538 - val_accuracy: 0.5849 - val_loss: 0.9025\n",
      "Epoch 17/60\n",
      "\u001b[1m14/14\u001b[0m \u001b[32m━━━━━━━━━━━━━━━━━━━━\u001b[0m\u001b[37m\u001b[0m \u001b[1m4s\u001b[0m 316ms/step - accuracy: 0.9652 - loss: 0.0820 - val_accuracy: 0.5660 - val_loss: 1.0023\n",
      "Epoch 18/60\n",
      "\u001b[1m14/14\u001b[0m \u001b[32m━━━━━━━━━━━━━━━━━━━━\u001b[0m\u001b[37m\u001b[0m \u001b[1m4s\u001b[0m 309ms/step - accuracy: 0.9793 - loss: 0.0688 - val_accuracy: 0.6226 - val_loss: 0.9866\n",
      "Epoch 19/60\n",
      "\u001b[1m14/14\u001b[0m \u001b[32m━━━━━━━━━━━━━━━━━━━━\u001b[0m\u001b[37m\u001b[0m \u001b[1m4s\u001b[0m 310ms/step - accuracy: 0.9843 - loss: 0.0604 - val_accuracy: 0.6226 - val_loss: 0.9460\n",
      "Epoch 20/60\n",
      "\u001b[1m14/14\u001b[0m \u001b[32m━━━━━━━━━━━━━━━━━━━━\u001b[0m\u001b[37m\u001b[0m \u001b[1m4s\u001b[0m 309ms/step - accuracy: 0.9970 - loss: 0.0322 - val_accuracy: 0.6226 - val_loss: 0.9234\n",
      "Epoch 21/60\n",
      "\u001b[1m14/14\u001b[0m \u001b[32m━━━━━━━━━━━━━━━━━━━━\u001b[0m\u001b[37m\u001b[0m \u001b[1m4s\u001b[0m 316ms/step - accuracy: 0.9866 - loss: 0.0415 - val_accuracy: 0.6226 - val_loss: 0.8694\n",
      "Epoch 22/60\n",
      "\u001b[1m14/14\u001b[0m \u001b[32m━━━━━━━━━━━━━━━━━━━━\u001b[0m\u001b[37m\u001b[0m \u001b[1m4s\u001b[0m 315ms/step - accuracy: 0.9873 - loss: 0.0405 - val_accuracy: 0.6226 - val_loss: 0.8805\n",
      "Epoch 23/60\n",
      "\u001b[1m14/14\u001b[0m \u001b[32m━━━━━━━━━━━━━━━━━━━━\u001b[0m\u001b[37m\u001b[0m \u001b[1m4s\u001b[0m 312ms/step - accuracy: 0.9711 - loss: 0.0578 - val_accuracy: 0.6038 - val_loss: 0.9117\n",
      "Epoch 24/60\n",
      "\u001b[1m14/14\u001b[0m \u001b[32m━━━━━━━━━━━━━━━━━━━━\u001b[0m\u001b[37m\u001b[0m \u001b[1m5s\u001b[0m 312ms/step - accuracy: 0.9925 - loss: 0.0267 - val_accuracy: 0.5849 - val_loss: 0.8538\n",
      "Epoch 25/60\n",
      "\u001b[1m14/14\u001b[0m \u001b[32m━━━━━━━━━━━━━━━━━━━━\u001b[0m\u001b[37m\u001b[0m \u001b[1m4s\u001b[0m 313ms/step - accuracy: 0.9885 - loss: 0.0355 - val_accuracy: 0.6038 - val_loss: 0.8972\n",
      "Epoch 26/60\n",
      "\u001b[1m14/14\u001b[0m \u001b[32m━━━━━━━━━━━━━━━━━━━━\u001b[0m\u001b[37m\u001b[0m \u001b[1m4s\u001b[0m 311ms/step - accuracy: 0.9911 - loss: 0.0448 - val_accuracy: 0.6038 - val_loss: 0.6969\n",
      "Epoch 27/60\n",
      "\u001b[1m14/14\u001b[0m \u001b[32m━━━━━━━━━━━━━━━━━━━━\u001b[0m\u001b[37m\u001b[0m \u001b[1m4s\u001b[0m 312ms/step - accuracy: 0.9987 - loss: 0.0155 - val_accuracy: 0.6792 - val_loss: 0.6876\n",
      "Epoch 28/60\n",
      "\u001b[1m14/14\u001b[0m \u001b[32m━━━━━━━━━━━━━━━━━━━━\u001b[0m\u001b[37m\u001b[0m \u001b[1m4s\u001b[0m 314ms/step - accuracy: 0.9772 - loss: 0.0596 - val_accuracy: 0.6038 - val_loss: 0.7292\n",
      "Epoch 29/60\n",
      "\u001b[1m14/14\u001b[0m \u001b[32m━━━━━━━━━━━━━━━━━━━━\u001b[0m\u001b[37m\u001b[0m \u001b[1m4s\u001b[0m 310ms/step - accuracy: 0.9861 - loss: 0.0304 - val_accuracy: 0.6226 - val_loss: 0.8131\n",
      "Epoch 30/60\n",
      "\u001b[1m14/14\u001b[0m \u001b[32m━━━━━━━━━━━━━━━━━━━━\u001b[0m\u001b[37m\u001b[0m \u001b[1m4s\u001b[0m 311ms/step - accuracy: 0.9901 - loss: 0.0299 - val_accuracy: 0.6226 - val_loss: 0.8202\n",
      "Epoch 31/60\n",
      "\u001b[1m14/14\u001b[0m \u001b[32m━━━━━━━━━━━━━━━━━━━━\u001b[0m\u001b[37m\u001b[0m \u001b[1m4s\u001b[0m 315ms/step - accuracy: 0.9942 - loss: 0.0185 - val_accuracy: 0.6038 - val_loss: 0.8466\n",
      "Epoch 32/60\n",
      "\u001b[1m14/14\u001b[0m \u001b[32m━━━━━━━━━━━━━━━━━━━━\u001b[0m\u001b[37m\u001b[0m \u001b[1m4s\u001b[0m 307ms/step - accuracy: 0.9900 - loss: 0.0347 - val_accuracy: 0.6604 - val_loss: 0.7925\n",
      "Epoch 33/60\n",
      "\u001b[1m14/14\u001b[0m \u001b[32m━━━━━━━━━━━━━━━━━━━━\u001b[0m\u001b[37m\u001b[0m \u001b[1m4s\u001b[0m 308ms/step - accuracy: 0.9906 - loss: 0.0277 - val_accuracy: 0.6981 - val_loss: 0.7427\n",
      "Epoch 34/60\n",
      "\u001b[1m14/14\u001b[0m \u001b[32m━━━━━━━━━━━━━━━━━━━━\u001b[0m\u001b[37m\u001b[0m \u001b[1m4s\u001b[0m 309ms/step - accuracy: 0.9871 - loss: 0.0322 - val_accuracy: 0.7547 - val_loss: 0.8099\n",
      "Epoch 35/60\n",
      "\u001b[1m14/14\u001b[0m \u001b[32m━━━━━━━━━━━━━━━━━━━━\u001b[0m\u001b[37m\u001b[0m \u001b[1m4s\u001b[0m 310ms/step - accuracy: 0.9948 - loss: 0.0155 - val_accuracy: 0.7736 - val_loss: 0.8142\n",
      "Epoch 36/60\n",
      "\u001b[1m14/14\u001b[0m \u001b[32m━━━━━━━━━━━━━━━━━━━━\u001b[0m\u001b[37m\u001b[0m \u001b[1m4s\u001b[0m 311ms/step - accuracy: 0.9867 - loss: 0.0492 - val_accuracy: 0.7736 - val_loss: 0.8376\n",
      "Epoch 37/60\n",
      "\u001b[1m14/14\u001b[0m \u001b[32m━━━━━━━━━━━━━━━━━━━━\u001b[0m\u001b[37m\u001b[0m \u001b[1m4s\u001b[0m 307ms/step - accuracy: 0.9939 - loss: 0.0166 - val_accuracy: 0.7925 - val_loss: 0.8621\n",
      "Epoch 38/60\n",
      "\u001b[1m14/14\u001b[0m \u001b[32m━━━━━━━━━━━━━━━━━━━━\u001b[0m\u001b[37m\u001b[0m \u001b[1m4s\u001b[0m 311ms/step - accuracy: 0.9961 - loss: 0.0162 - val_accuracy: 0.7925 - val_loss: 0.8586\n",
      "Epoch 39/60\n",
      "\u001b[1m14/14\u001b[0m \u001b[32m━━━━━━━━━━━━━━━━━━━━\u001b[0m\u001b[37m\u001b[0m \u001b[1m5s\u001b[0m 312ms/step - accuracy: 0.9952 - loss: 0.0176 - val_accuracy: 0.7925 - val_loss: 0.8368\n",
      "Epoch 40/60\n",
      "\u001b[1m14/14\u001b[0m \u001b[32m━━━━━━━━━━━━━━━━━━━━\u001b[0m\u001b[37m\u001b[0m \u001b[1m4s\u001b[0m 310ms/step - accuracy: 0.9811 - loss: 0.0320 - val_accuracy: 0.7736 - val_loss: 0.7722\n",
      "Epoch 41/60\n",
      "\u001b[1m14/14\u001b[0m \u001b[32m━━━━━━━━━━━━━━━━━━━━\u001b[0m\u001b[37m\u001b[0m \u001b[1m4s\u001b[0m 314ms/step - accuracy: 0.9913 - loss: 0.0180 - val_accuracy: 0.7925 - val_loss: 0.7822\n",
      "Epoch 42/60\n",
      "\u001b[1m14/14\u001b[0m \u001b[32m━━━━━━━━━━━━━━━━━━━━\u001b[0m\u001b[37m\u001b[0m \u001b[1m4s\u001b[0m 313ms/step - accuracy: 0.9966 - loss: 0.0115 - val_accuracy: 0.7736 - val_loss: 0.7956\n",
      "Epoch 43/60\n",
      "\u001b[1m14/14\u001b[0m \u001b[32m━━━━━━━━━━━━━━━━━━━━\u001b[0m\u001b[37m\u001b[0m \u001b[1m4s\u001b[0m 309ms/step - accuracy: 0.9994 - loss: 0.0043 - val_accuracy: 0.7547 - val_loss: 0.8174\n",
      "Epoch 44/60\n",
      "\u001b[1m14/14\u001b[0m \u001b[32m━━━━━━━━━━━━━━━━━━━━\u001b[0m\u001b[37m\u001b[0m \u001b[1m4s\u001b[0m 311ms/step - accuracy: 1.0000 - loss: 0.0069 - val_accuracy: 0.7547 - val_loss: 0.8027\n",
      "Epoch 45/60\n",
      "\u001b[1m14/14\u001b[0m \u001b[32m━━━━━━━━━━━━━━━━━━━━\u001b[0m\u001b[37m\u001b[0m \u001b[1m4s\u001b[0m 309ms/step - accuracy: 0.9969 - loss: 0.0130 - val_accuracy: 0.7547 - val_loss: 0.7443\n",
      "Epoch 46/60\n",
      "\u001b[1m14/14\u001b[0m \u001b[32m━━━━━━━━━━━━━━━━━━━━\u001b[0m\u001b[37m\u001b[0m \u001b[1m4s\u001b[0m 312ms/step - accuracy: 0.9906 - loss: 0.0257 - val_accuracy: 0.7547 - val_loss: 0.8077\n",
      "Epoch 47/60\n",
      "\u001b[1m14/14\u001b[0m \u001b[32m━━━━━━━━━━━━━━━━━━━━\u001b[0m\u001b[37m\u001b[0m \u001b[1m4s\u001b[0m 308ms/step - accuracy: 0.9894 - loss: 0.0228 - val_accuracy: 0.7547 - val_loss: 0.8629\n",
      "Epoch 48/60\n",
      "\u001b[1m14/14\u001b[0m \u001b[32m━━━━━━━━━━━━━━━━━━━━\u001b[0m\u001b[37m\u001b[0m \u001b[1m4s\u001b[0m 310ms/step - accuracy: 0.9896 - loss: 0.0164 - val_accuracy: 0.7736 - val_loss: 0.8722\n",
      "Epoch 49/60\n",
      "\u001b[1m14/14\u001b[0m \u001b[32m━━━━━━━━━━━━━━━━━━━━\u001b[0m\u001b[37m\u001b[0m \u001b[1m4s\u001b[0m 308ms/step - accuracy: 0.9879 - loss: 0.0265 - val_accuracy: 0.7170 - val_loss: 0.9069\n",
      "Epoch 50/60\n",
      "\u001b[1m14/14\u001b[0m \u001b[32m━━━━━━━━━━━━━━━━━━━━\u001b[0m\u001b[37m\u001b[0m \u001b[1m4s\u001b[0m 316ms/step - accuracy: 0.9884 - loss: 0.0359 - val_accuracy: 0.6981 - val_loss: 0.9378\n",
      "Epoch 51/60\n",
      "\u001b[1m14/14\u001b[0m \u001b[32m━━━━━━━━━━━━━━━━━━━━\u001b[0m\u001b[37m\u001b[0m \u001b[1m4s\u001b[0m 309ms/step - accuracy: 0.9918 - loss: 0.0167 - val_accuracy: 0.7170 - val_loss: 1.0352\n",
      "Epoch 52/60\n",
      "\u001b[1m14/14\u001b[0m \u001b[32m━━━━━━━━━━━━━━━━━━━━\u001b[0m\u001b[37m\u001b[0m \u001b[1m4s\u001b[0m 313ms/step - accuracy: 0.9908 - loss: 0.0211 - val_accuracy: 0.7547 - val_loss: 1.0068\n",
      "Epoch 53/60\n",
      "\u001b[1m14/14\u001b[0m \u001b[32m━━━━━━━━━━━━━━━━━━━━\u001b[0m\u001b[37m\u001b[0m \u001b[1m4s\u001b[0m 310ms/step - accuracy: 0.9971 - loss: 0.0103 - val_accuracy: 0.7547 - val_loss: 0.9934\n",
      "Epoch 54/60\n",
      "\u001b[1m14/14\u001b[0m \u001b[32m━━━━━━━━━━━━━━━━━━━━\u001b[0m\u001b[37m\u001b[0m \u001b[1m4s\u001b[0m 311ms/step - accuracy: 0.9933 - loss: 0.0100 - val_accuracy: 0.7358 - val_loss: 1.0317\n",
      "Epoch 55/60\n",
      "\u001b[1m14/14\u001b[0m \u001b[32m━━━━━━━━━━━━━━━━━━━━\u001b[0m\u001b[37m\u001b[0m \u001b[1m4s\u001b[0m 308ms/step - accuracy: 0.9983 - loss: 0.0072 - val_accuracy: 0.7170 - val_loss: 1.0051\n",
      "Epoch 56/60\n",
      "\u001b[1m14/14\u001b[0m \u001b[32m━━━━━━━━━━━━━━━━━━━━\u001b[0m\u001b[37m\u001b[0m \u001b[1m4s\u001b[0m 313ms/step - accuracy: 0.9949 - loss: 0.0116 - val_accuracy: 0.7547 - val_loss: 0.7872\n",
      "Epoch 57/60\n",
      "\u001b[1m14/14\u001b[0m \u001b[32m━━━━━━━━━━━━━━━━━━━━\u001b[0m\u001b[37m\u001b[0m \u001b[1m4s\u001b[0m 306ms/step - accuracy: 0.9909 - loss: 0.0285 - val_accuracy: 0.7358 - val_loss: 0.9237\n",
      "Epoch 58/60\n",
      "\u001b[1m14/14\u001b[0m \u001b[32m━━━━━━━━━━━━━━━━━━━━\u001b[0m\u001b[37m\u001b[0m \u001b[1m4s\u001b[0m 313ms/step - accuracy: 1.0000 - loss: 0.0051 - val_accuracy: 0.7170 - val_loss: 1.1172\n",
      "Epoch 59/60\n",
      "\u001b[1m14/14\u001b[0m \u001b[32m━━━━━━━━━━━━━━━━━━━━\u001b[0m\u001b[37m\u001b[0m \u001b[1m4s\u001b[0m 311ms/step - accuracy: 0.9859 - loss: 0.0465 - val_accuracy: 0.7547 - val_loss: 1.0349\n",
      "Epoch 60/60\n",
      "\u001b[1m14/14\u001b[0m \u001b[32m━━━━━━━━━━━━━━━━━━━━\u001b[0m\u001b[37m\u001b[0m \u001b[1m4s\u001b[0m 308ms/step - accuracy: 0.9962 - loss: 0.0089 - val_accuracy: 0.6792 - val_loss: 1.0836\n",
      "\u001b[1m2/2\u001b[0m \u001b[32m━━━━━━━━━━━━━━━━━━━━\u001b[0m\u001b[37m\u001b[0m \u001b[1m10s\u001b[0m 10s/step - accuracy: 0.8088 - loss: 0.7013\n",
      "Test Accuracy for EfficientNetB4: 0.8070175647735596\n",
      "\u001b[1m2/2\u001b[0m \u001b[32m━━━━━━━━━━━━━━━━━━━━\u001b[0m\u001b[37m\u001b[0m \u001b[1m20s\u001b[0m 10s/step\n",
      "              precision    recall  f1-score   support\n",
      "\n",
      "           0       0.85      0.82      0.84        34\n",
      "           1       0.75      0.78      0.77        23\n",
      "\n",
      "   micro avg       0.81      0.81      0.81        57\n",
      "   macro avg       0.80      0.80      0.80        57\n",
      "weighted avg       0.81      0.81      0.81        57\n",
      " samples avg       0.81      0.81      0.81        57\n",
      "\n"
     ]
    },
    {
     "data": {
      "image/png": "[encoded data removed]",
      "text/plain": [
       "<Figure size 1000x700 with 2 Axes>"
      ]
     },
     "metadata": {},
     "output_type": "display_data"
    }
   ],
   "source": [
    "model_name = \"EfficientNetB4\"\n",
    "model = create_model(model_name)\n",
    "train_and_evaluate_model(model, train_data, val_data, test_data, model_name)"
   ]
  },
  {
   "cell_type": "markdown",
   "id": "8b804a98",
   "metadata": {
    "papermill": {
     "duration": 0.241724,
     "end_time": "2024-06-16T10:52:07.223334",
     "exception": false,
     "start_time": "2024-06-16T10:52:06.981610",
     "status": "completed"
    },
    "tags": []
   },
   "source": [
    "# VGG19"
   ]
  },
  {
   "cell_type": "code",
   "execution_count": 14,
   "id": "3311255e",
   "metadata": {
    "execution": {
     "iopub.execute_input": "2024-06-16T10:52:07.709710Z",
     "iopub.status.busy": "2024-06-16T10:52:07.709058Z",
     "iopub.status.idle": "2024-06-16T10:57:01.542328Z",
     "shell.execute_reply": "2024-06-16T10:57:01.541243Z"
    },
    "papermill": {
     "duration": 294.078749,
     "end_time": "2024-06-16T10:57:01.545568",
     "exception": false,
     "start_time": "2024-06-16T10:52:07.466819",
     "status": "completed"
    },
    "tags": []
   },
   "outputs": [
    {
     "name": "stdout",
     "output_type": "stream",
     "text": [
      "Downloading data from https://storage.googleapis.com/tensorflow/keras-applications/vgg19/vgg19_weights_tf_dim_ordering_tf_kernels_notop.h5\n",
      "\u001b[1m80134624/80134624\u001b[0m \u001b[32m━━━━━━━━━━━━━━━━━━━━\u001b[0m\u001b[37m\u001b[0m \u001b[1m0s\u001b[0m 0us/step\n",
      "Epoch 1/60\n"
     ]
    },
    {
     "name": "stderr",
     "output_type": "stream",
     "text": [
      "2024-06-16 10:52:15.499311: E external/local_xla/xla/service/gpu/buffer_comparator.cc:1137] Difference at 0: 4.63498, expected 3.85968\n",
      "2024-06-16 10:52:15.499373: E external/local_xla/xla/service/gpu/buffer_comparator.cc:1137] Difference at 3: 6.55784, expected 5.78254\n",
      "2024-06-16 10:52:15.499388: E external/local_xla/xla/service/gpu/buffer_comparator.cc:1137] Difference at 4: 6.61282, expected 5.83752\n",
      "2024-06-16 10:52:15.499402: E external/local_xla/xla/service/gpu/buffer_comparator.cc:1137] Difference at 6: 6.34499, expected 5.56968\n",
      "2024-06-16 10:52:15.499412: E external/local_xla/xla/service/gpu/buffer_comparator.cc:1137] Difference at 7: 6.25159, expected 5.47629\n",
      "2024-06-16 10:52:15.499423: E external/local_xla/xla/service/gpu/buffer_comparator.cc:1137] Difference at 8: 5.43964, expected 4.66434\n",
      "2024-06-16 10:52:15.499434: E external/local_xla/xla/service/gpu/buffer_comparator.cc:1137] Difference at 9: 6.54333, expected 5.76803\n",
      "2024-06-16 10:52:15.499446: E external/local_xla/xla/service/gpu/buffer_comparator.cc:1137] Difference at 10: 5.76049, expected 4.98519\n",
      "2024-06-16 10:52:15.499456: E external/local_xla/xla/service/gpu/buffer_comparator.cc:1137] Difference at 11: 5.33632, expected 4.56101\n",
      "2024-06-16 10:52:15.499466: E external/local_xla/xla/service/gpu/buffer_comparator.cc:1137] Difference at 12: 4.04081, expected 3.2655\n",
      "2024-06-16 10:52:15.543954: E external/local_xla/xla/service/gpu/conv_algorithm_picker.cc:705] Results mismatch between different convolution algorithms. This is likely a bug/unexpected loss of precision in cudnn.\n",
      "(f32[32,64,224,224]{3,2,1,0}, u8[0]{0}) custom-call(f32[32,3,224,224]{3,2,1,0}, f32[64,3,3,3]{3,2,1,0}, f32[64]{0}), window={size=3x3 pad=1_1x1_1}, dim_labels=bf01_oi01->bf01, custom_call_target=\"__cudnn$convBiasActivationForward\", backend_config={\"conv_result_scale\":1,\"activation_mode\":\"kRelu\",\"side_input_scale\":0,\"leakyrelu_alpha\":0} for eng20{k2=1,k4=1,k5=1,k6=0,k7=0} vs eng15{k5=1,k6=0,k7=1,k10=1}\n",
      "2024-06-16 10:52:15.544018: E external/local_xla/xla/service/gpu/conv_algorithm_picker.cc:270] Device: Tesla P100-PCIE-16GB\n",
      "2024-06-16 10:52:15.544029: E external/local_xla/xla/service/gpu/conv_algorithm_picker.cc:271] Platform: Compute Capability 6.0\n",
      "2024-06-16 10:52:15.544041: E external/local_xla/xla/service/gpu/conv_algorithm_picker.cc:272] Driver: 12020 (535.129.3)\n",
      "2024-06-16 10:52:15.544057: E external/local_xla/xla/service/gpu/conv_algorithm_picker.cc:273] Runtime: <undefined>\n",
      "2024-06-16 10:52:15.544079: E external/local_xla/xla/service/gpu/conv_algorithm_picker.cc:280] cudnn version: 8.9.0\n",
      "2024-06-16 10:52:16.631491: E external/local_xla/xla/service/gpu/buffer_comparator.cc:1137] Difference at 0: 4.63498, expected 3.85968\n",
      "2024-06-16 10:52:16.631561: E external/local_xla/xla/service/gpu/buffer_comparator.cc:1137] Difference at 3: 6.55784, expected 5.78254\n",
      "2024-06-16 10:52:16.631574: E external/local_xla/xla/service/gpu/buffer_comparator.cc:1137] Difference at 4: 6.61282, expected 5.83752\n",
      "2024-06-16 10:52:16.631586: E external/local_xla/xla/service/gpu/buffer_comparator.cc:1137] Difference at 6: 6.34499, expected 5.56968\n",
      "2024-06-16 10:52:16.631598: E external/local_xla/xla/service/gpu/buffer_comparator.cc:1137] Difference at 7: 6.25159, expected 5.47629\n",
      "2024-06-16 10:52:16.631609: E external/local_xla/xla/service/gpu/buffer_comparator.cc:1137] Difference at 8: 5.43964, expected 4.66434\n",
      "2024-06-16 10:52:16.631619: E external/local_xla/xla/service/gpu/buffer_comparator.cc:1137] Difference at 9: 6.54333, expected 5.76803\n",
      "2024-06-16 10:52:16.631630: E external/local_xla/xla/service/gpu/buffer_comparator.cc:1137] Difference at 10: 5.76049, expected 4.98519\n",
      "2024-06-16 10:52:16.631641: E external/local_xla/xla/service/gpu/buffer_comparator.cc:1137] Difference at 11: 5.33632, expected 4.56101\n",
      "2024-06-16 10:52:16.631652: E external/local_xla/xla/service/gpu/buffer_comparator.cc:1137] Difference at 12: 4.04081, expected 3.2655\n",
      "2024-06-16 10:52:16.675670: E external/local_xla/xla/service/gpu/conv_algorithm_picker.cc:705] Results mismatch between different convolution algorithms. This is likely a bug/unexpected loss of precision in cudnn.\n",
      "(f32[32,64,224,224]{3,2,1,0}, u8[0]{0}) custom-call(f32[32,3,224,224]{3,2,1,0}, f32[64,3,3,3]{3,2,1,0}, f32[64]{0}), window={size=3x3 pad=1_1x1_1}, dim_labels=bf01_oi01->bf01, custom_call_target=\"__cudnn$convBiasActivationForward\", backend_config={\"conv_result_scale\":1,\"activation_mode\":\"kRelu\",\"side_input_scale\":0,\"leakyrelu_alpha\":0} for eng20{k2=1,k4=1,k5=1,k6=0,k7=0} vs eng15{k5=1,k6=0,k7=1,k10=1}\n",
      "2024-06-16 10:52:16.675724: E external/local_xla/xla/service/gpu/conv_algorithm_picker.cc:270] Device: Tesla P100-PCIE-16GB\n",
      "2024-06-16 10:52:16.675735: E external/local_xla/xla/service/gpu/conv_algorithm_picker.cc:271] Platform: Compute Capability 6.0\n",
      "2024-06-16 10:52:16.675747: E external/local_xla/xla/service/gpu/conv_algorithm_picker.cc:272] Driver: 12020 (535.129.3)\n",
      "2024-06-16 10:52:16.675762: E external/local_xla/xla/service/gpu/conv_algorithm_picker.cc:273] Runtime: <undefined>\n",
      "2024-06-16 10:52:16.675783: E external/local_xla/xla/service/gpu/conv_algorithm_picker.cc:280] cudnn version: 8.9.0\n"
     ]
    },
    {
     "name": "stdout",
     "output_type": "stream",
     "text": [
      "\u001b[1m13/14\u001b[0m \u001b[32m━━━━━━━━━━━━━━━━━━\u001b[0m\u001b[37m━━\u001b[0m \u001b[1m0s\u001b[0m 233ms/step - accuracy: 0.6172 - loss: 0.7930"
     ]
    },
    {
     "name": "stderr",
     "output_type": "stream",
     "text": [
      "2024-06-16 10:52:55.644826: E external/local_xla/xla/service/gpu/buffer_comparator.cc:1137] Difference at 0: 3.78283, expected 2.94933\n",
      "2024-06-16 10:52:55.644888: E external/local_xla/xla/service/gpu/buffer_comparator.cc:1137] Difference at 1: 5.74976, expected 4.91626\n",
      "2024-06-16 10:52:55.644898: E external/local_xla/xla/service/gpu/buffer_comparator.cc:1137] Difference at 2: 5.76648, expected 4.93298\n",
      "2024-06-16 10:52:55.644905: E external/local_xla/xla/service/gpu/buffer_comparator.cc:1137] Difference at 3: 5.49029, expected 4.65679\n",
      "2024-06-16 10:52:55.644913: E external/local_xla/xla/service/gpu/buffer_comparator.cc:1137] Difference at 4: 4.99986, expected 4.16636\n",
      "2024-06-16 10:52:55.644923: E external/local_xla/xla/service/gpu/buffer_comparator.cc:1137] Difference at 5: 5.68302, expected 4.84952\n",
      "2024-06-16 10:52:55.644931: E external/local_xla/xla/service/gpu/buffer_comparator.cc:1137] Difference at 6: 6.36663, expected 5.53313\n",
      "2024-06-16 10:52:55.644938: E external/local_xla/xla/service/gpu/buffer_comparator.cc:1137] Difference at 7: 5.11906, expected 4.28556\n",
      "2024-06-16 10:52:55.644946: E external/local_xla/xla/service/gpu/buffer_comparator.cc:1137] Difference at 8: 4.55286, expected 3.71935\n",
      "2024-06-16 10:52:55.644954: E external/local_xla/xla/service/gpu/buffer_comparator.cc:1137] Difference at 9: 6.1178, expected 5.2843\n",
      "2024-06-16 10:52:55.674231: E external/local_xla/xla/service/gpu/conv_algorithm_picker.cc:705] Results mismatch between different convolution algorithms. This is likely a bug/unexpected loss of precision in cudnn.\n",
      "(f32[21,64,224,224]{3,2,1,0}, u8[0]{0}) custom-call(f32[21,3,224,224]{3,2,1,0}, f32[64,3,3,3]{3,2,1,0}, f32[64]{0}), window={size=3x3 pad=1_1x1_1}, dim_labels=bf01_oi01->bf01, custom_call_target=\"__cudnn$convBiasActivationForward\", backend_config={\"conv_result_scale\":1,\"activation_mode\":\"kRelu\",\"side_input_scale\":0,\"leakyrelu_alpha\":0} for eng20{k2=1,k4=1,k5=1,k6=0,k7=0} vs eng15{k5=1,k6=0,k7=1,k10=1}\n",
      "2024-06-16 10:52:55.674293: E external/local_xla/xla/service/gpu/conv_algorithm_picker.cc:270] Device: Tesla P100-PCIE-16GB\n",
      "2024-06-16 10:52:55.674303: E external/local_xla/xla/service/gpu/conv_algorithm_picker.cc:271] Platform: Compute Capability 6.0\n",
      "2024-06-16 10:52:55.674311: E external/local_xla/xla/service/gpu/conv_algorithm_picker.cc:272] Driver: 12020 (535.129.3)\n",
      "2024-06-16 10:52:55.674319: E external/local_xla/xla/service/gpu/conv_algorithm_picker.cc:273] Runtime: <undefined>\n",
      "2024-06-16 10:52:55.674336: E external/local_xla/xla/service/gpu/conv_algorithm_picker.cc:280] cudnn version: 8.9.0\n",
      "2024-06-16 10:52:56.329051: E external/local_xla/xla/service/gpu/buffer_comparator.cc:1137] Difference at 0: 3.78283, expected 2.94933\n",
      "2024-06-16 10:52:56.329107: E external/local_xla/xla/service/gpu/buffer_comparator.cc:1137] Difference at 1: 5.74976, expected 4.91626\n",
      "2024-06-16 10:52:56.329116: E external/local_xla/xla/service/gpu/buffer_comparator.cc:1137] Difference at 2: 5.76648, expected 4.93298\n",
      "2024-06-16 10:52:56.329124: E external/local_xla/xla/service/gpu/buffer_comparator.cc:1137] Difference at 3: 5.49029, expected 4.65679\n",
      "2024-06-16 10:52:56.329132: E external/local_xla/xla/service/gpu/buffer_comparator.cc:1137] Difference at 4: 4.99986, expected 4.16636\n",
      "2024-06-16 10:52:56.329139: E external/local_xla/xla/service/gpu/buffer_comparator.cc:1137] Difference at 5: 5.68302, expected 4.84952\n",
      "2024-06-16 10:52:56.329147: E external/local_xla/xla/service/gpu/buffer_comparator.cc:1137] Difference at 6: 6.36663, expected 5.53313\n",
      "2024-06-16 10:52:56.329155: E external/local_xla/xla/service/gpu/buffer_comparator.cc:1137] Difference at 7: 5.11906, expected 4.28556\n",
      "2024-06-16 10:52:56.329163: E external/local_xla/xla/service/gpu/buffer_comparator.cc:1137] Difference at 8: 4.55286, expected 3.71935\n",
      "2024-06-16 10:52:56.329170: E external/local_xla/xla/service/gpu/buffer_comparator.cc:1137] Difference at 9: 6.1178, expected 5.2843\n",
      "2024-06-16 10:52:56.359035: E external/local_xla/xla/service/gpu/conv_algorithm_picker.cc:705] Results mismatch between different convolution algorithms. This is likely a bug/unexpected loss of precision in cudnn.\n",
      "(f32[21,64,224,224]{3,2,1,0}, u8[0]{0}) custom-call(f32[21,3,224,224]{3,2,1,0}, f32[64,3,3,3]{3,2,1,0}, f32[64]{0}), window={size=3x3 pad=1_1x1_1}, dim_labels=bf01_oi01->bf01, custom_call_target=\"__cudnn$convBiasActivationForward\", backend_config={\"conv_result_scale\":1,\"activation_mode\":\"kRelu\",\"side_input_scale\":0,\"leakyrelu_alpha\":0} for eng20{k2=1,k4=1,k5=1,k6=0,k7=0} vs eng15{k5=1,k6=0,k7=1,k10=1}\n",
      "2024-06-16 10:52:56.359086: E external/local_xla/xla/service/gpu/conv_algorithm_picker.cc:270] Device: Tesla P100-PCIE-16GB\n",
      "2024-06-16 10:52:56.359095: E external/local_xla/xla/service/gpu/conv_algorithm_picker.cc:271] Platform: Compute Capability 6.0\n",
      "2024-06-16 10:52:56.359103: E external/local_xla/xla/service/gpu/conv_algorithm_picker.cc:272] Driver: 12020 (535.129.3)\n",
      "2024-06-16 10:52:56.359111: E external/local_xla/xla/service/gpu/conv_algorithm_picker.cc:273] Runtime: <undefined>\n",
      "2024-06-16 10:52:56.359128: E external/local_xla/xla/service/gpu/conv_algorithm_picker.cc:280] cudnn version: 8.9.0\n"
     ]
    },
    {
     "name": "stdout",
     "output_type": "stream",
     "text": [
      "\u001b[1m14/14\u001b[0m \u001b[32m━━━━━━━━━━━━━━━━━━━━\u001b[0m\u001b[37m\u001b[0m \u001b[1m73s\u001b[0m 2s/step - accuracy: 0.6212 - loss: 0.7881 - val_accuracy: 1.0000 - val_loss: 0.2886\n",
      "Epoch 2/60\n",
      "\u001b[1m14/14\u001b[0m \u001b[32m━━━━━━━━━━━━━━━━━━━━\u001b[0m\u001b[37m\u001b[0m \u001b[1m3s\u001b[0m 243ms/step - accuracy: 0.7141 - loss: 0.6002 - val_accuracy: 1.0000 - val_loss: 0.2519\n",
      "Epoch 3/60\n",
      "\u001b[1m14/14\u001b[0m \u001b[32m━━━━━━━━━━━━━━━━━━━━\u001b[0m\u001b[37m\u001b[0m \u001b[1m3s\u001b[0m 243ms/step - accuracy: 0.6748 - loss: 0.5868 - val_accuracy: 1.0000 - val_loss: 0.1537\n",
      "Epoch 4/60\n",
      "\u001b[1m14/14\u001b[0m \u001b[32m━━━━━━━━━━━━━━━━━━━━\u001b[0m\u001b[37m\u001b[0m \u001b[1m3s\u001b[0m 243ms/step - accuracy: 0.7329 - loss: 0.5566 - val_accuracy: 1.0000 - val_loss: 0.1833\n",
      "Epoch 5/60\n",
      "\u001b[1m14/14\u001b[0m \u001b[32m━━━━━━━━━━━━━━━━━━━━\u001b[0m\u001b[37m\u001b[0m \u001b[1m3s\u001b[0m 244ms/step - accuracy: 0.7650 - loss: 0.5266 - val_accuracy: 1.0000 - val_loss: 0.2107\n",
      "Epoch 6/60\n",
      "\u001b[1m14/14\u001b[0m \u001b[32m━━━━━━━━━━━━━━━━━━━━\u001b[0m\u001b[37m\u001b[0m \u001b[1m3s\u001b[0m 244ms/step - accuracy: 0.7695 - loss: 0.4842 - val_accuracy: 0.9434 - val_loss: 0.2433\n",
      "Epoch 7/60\n",
      "\u001b[1m14/14\u001b[0m \u001b[32m━━━━━━━━━━━━━━━━━━━━\u001b[0m\u001b[37m\u001b[0m \u001b[1m3s\u001b[0m 244ms/step - accuracy: 0.7471 - loss: 0.5264 - val_accuracy: 0.8868 - val_loss: 0.7923\n",
      "Epoch 8/60\n",
      "\u001b[1m14/14\u001b[0m \u001b[32m━━━━━━━━━━━━━━━━━━━━\u001b[0m\u001b[37m\u001b[0m \u001b[1m3s\u001b[0m 243ms/step - accuracy: 0.7815 - loss: 0.4905 - val_accuracy: 1.0000 - val_loss: 0.1464\n",
      "Epoch 9/60\n",
      "\u001b[1m14/14\u001b[0m \u001b[32m━━━━━━━━━━━━━━━━━━━━\u001b[0m\u001b[37m\u001b[0m \u001b[1m3s\u001b[0m 243ms/step - accuracy: 0.7979 - loss: 0.4622 - val_accuracy: 0.8679 - val_loss: 0.6267\n",
      "Epoch 10/60\n",
      "\u001b[1m14/14\u001b[0m \u001b[32m━━━━━━━━━━━━━━━━━━━━\u001b[0m\u001b[37m\u001b[0m \u001b[1m3s\u001b[0m 245ms/step - accuracy: 0.8288 - loss: 0.3740 - val_accuracy: 1.0000 - val_loss: 0.0667\n",
      "Epoch 11/60\n",
      "\u001b[1m14/14\u001b[0m \u001b[32m━━━━━━━━━━━━━━━━━━━━\u001b[0m\u001b[37m\u001b[0m \u001b[1m3s\u001b[0m 243ms/step - accuracy: 0.7818 - loss: 0.4444 - val_accuracy: 1.0000 - val_loss: 0.0589\n",
      "Epoch 12/60\n",
      "\u001b[1m14/14\u001b[0m \u001b[32m━━━━━━━━━━━━━━━━━━━━\u001b[0m\u001b[37m\u001b[0m \u001b[1m3s\u001b[0m 243ms/step - accuracy: 0.8295 - loss: 0.3776 - val_accuracy: 1.0000 - val_loss: 0.0548\n",
      "Epoch 13/60\n",
      "\u001b[1m14/14\u001b[0m \u001b[32m━━━━━━━━━━━━━━━━━━━━\u001b[0m\u001b[37m\u001b[0m \u001b[1m3s\u001b[0m 244ms/step - accuracy: 0.8200 - loss: 0.3575 - val_accuracy: 1.0000 - val_loss: 0.0760\n",
      "Epoch 14/60\n",
      "\u001b[1m14/14\u001b[0m \u001b[32m━━━━━━━━━━━━━━━━━━━━\u001b[0m\u001b[37m\u001b[0m \u001b[1m3s\u001b[0m 244ms/step - accuracy: 0.8843 - loss: 0.2887 - val_accuracy: 1.0000 - val_loss: 0.0375\n",
      "Epoch 15/60\n",
      "\u001b[1m14/14\u001b[0m \u001b[32m━━━━━━━━━━━━━━━━━━━━\u001b[0m\u001b[37m\u001b[0m \u001b[1m3s\u001b[0m 244ms/step - accuracy: 0.8520 - loss: 0.3097 - val_accuracy: 1.0000 - val_loss: 0.0414\n",
      "Epoch 16/60\n",
      "\u001b[1m14/14\u001b[0m \u001b[32m━━━━━━━━━━━━━━━━━━━━\u001b[0m\u001b[37m\u001b[0m \u001b[1m3s\u001b[0m 243ms/step - accuracy: 0.8932 - loss: 0.2629 - val_accuracy: 1.0000 - val_loss: 0.0475\n",
      "Epoch 17/60\n",
      "\u001b[1m14/14\u001b[0m \u001b[32m━━━━━━━━━━━━━━━━━━━━\u001b[0m\u001b[37m\u001b[0m \u001b[1m3s\u001b[0m 243ms/step - accuracy: 0.8705 - loss: 0.2935 - val_accuracy: 1.0000 - val_loss: 0.0521\n",
      "Epoch 18/60\n",
      "\u001b[1m14/14\u001b[0m \u001b[32m━━━━━━━━━━━━━━━━━━━━\u001b[0m\u001b[37m\u001b[0m \u001b[1m3s\u001b[0m 244ms/step - accuracy: 0.9332 - loss: 0.1770 - val_accuracy: 1.0000 - val_loss: 0.0213\n",
      "Epoch 19/60\n",
      "\u001b[1m14/14\u001b[0m \u001b[32m━━━━━━━━━━━━━━━━━━━━\u001b[0m\u001b[37m\u001b[0m \u001b[1m3s\u001b[0m 244ms/step - accuracy: 0.9348 - loss: 0.1704 - val_accuracy: 1.0000 - val_loss: 0.0477\n",
      "Epoch 20/60\n",
      "\u001b[1m14/14\u001b[0m \u001b[32m━━━━━━━━━━━━━━━━━━━━\u001b[0m\u001b[37m\u001b[0m \u001b[1m3s\u001b[0m 244ms/step - accuracy: 0.9402 - loss: 0.1862 - val_accuracy: 1.0000 - val_loss: 0.0281\n",
      "Epoch 21/60\n",
      "\u001b[1m14/14\u001b[0m \u001b[32m━━━━━━━━━━━━━━━━━━━━\u001b[0m\u001b[37m\u001b[0m \u001b[1m3s\u001b[0m 244ms/step - accuracy: 0.9348 - loss: 0.1716 - val_accuracy: 1.0000 - val_loss: 0.0497\n",
      "Epoch 22/60\n",
      "\u001b[1m14/14\u001b[0m \u001b[32m━━━━━━━━━━━━━━━━━━━━\u001b[0m\u001b[37m\u001b[0m \u001b[1m3s\u001b[0m 243ms/step - accuracy: 0.9502 - loss: 0.1616 - val_accuracy: 1.0000 - val_loss: 0.0458\n",
      "Epoch 23/60\n",
      "\u001b[1m14/14\u001b[0m \u001b[32m━━━━━━━━━━━━━━━━━━━━\u001b[0m\u001b[37m\u001b[0m \u001b[1m3s\u001b[0m 243ms/step - accuracy: 0.9571 - loss: 0.1278 - val_accuracy: 1.0000 - val_loss: 0.0730\n",
      "Epoch 24/60\n",
      "\u001b[1m14/14\u001b[0m \u001b[32m━━━━━━━━━━━━━━━━━━━━\u001b[0m\u001b[37m\u001b[0m \u001b[1m3s\u001b[0m 244ms/step - accuracy: 0.9779 - loss: 0.0970 - val_accuracy: 0.9623 - val_loss: 0.1365\n",
      "Epoch 25/60\n",
      "\u001b[1m14/14\u001b[0m \u001b[32m━━━━━━━━━━━━━━━━━━━━\u001b[0m\u001b[37m\u001b[0m \u001b[1m5s\u001b[0m 244ms/step - accuracy: 0.9603 - loss: 0.0983 - val_accuracy: 1.0000 - val_loss: 0.0539\n",
      "Epoch 26/60\n",
      "\u001b[1m14/14\u001b[0m \u001b[32m━━━━━━━━━━━━━━━━━━━━\u001b[0m\u001b[37m\u001b[0m \u001b[1m3s\u001b[0m 243ms/step - accuracy: 0.9607 - loss: 0.0829 - val_accuracy: 1.0000 - val_loss: 0.0530\n",
      "Epoch 27/60\n",
      "\u001b[1m14/14\u001b[0m \u001b[32m━━━━━━━━━━━━━━━━━━━━\u001b[0m\u001b[37m\u001b[0m \u001b[1m3s\u001b[0m 243ms/step - accuracy: 0.9587 - loss: 0.1030 - val_accuracy: 0.8679 - val_loss: 0.5339\n",
      "Epoch 28/60\n",
      "\u001b[1m14/14\u001b[0m \u001b[32m━━━━━━━━━━━━━━━━━━━━\u001b[0m\u001b[37m\u001b[0m \u001b[1m3s\u001b[0m 244ms/step - accuracy: 0.9539 - loss: 0.1156 - val_accuracy: 1.0000 - val_loss: 0.0459\n",
      "Epoch 29/60\n",
      "\u001b[1m14/14\u001b[0m \u001b[32m━━━━━━━━━━━━━━━━━━━━\u001b[0m\u001b[37m\u001b[0m \u001b[1m3s\u001b[0m 244ms/step - accuracy: 0.9796 - loss: 0.0740 - val_accuracy: 1.0000 - val_loss: 0.0387\n",
      "Epoch 30/60\n",
      "\u001b[1m14/14\u001b[0m \u001b[32m━━━━━━━━━━━━━━━━━━━━\u001b[0m\u001b[37m\u001b[0m \u001b[1m3s\u001b[0m 243ms/step - accuracy: 0.9844 - loss: 0.0701 - val_accuracy: 0.6038 - val_loss: 8.2890\n",
      "Epoch 31/60\n",
      "\u001b[1m14/14\u001b[0m \u001b[32m━━━━━━━━━━━━━━━━━━━━\u001b[0m\u001b[37m\u001b[0m \u001b[1m3s\u001b[0m 243ms/step - accuracy: 0.9852 - loss: 0.0629 - val_accuracy: 0.6038 - val_loss: 7.9187\n",
      "Epoch 32/60\n",
      "\u001b[1m14/14\u001b[0m \u001b[32m━━━━━━━━━━━━━━━━━━━━\u001b[0m\u001b[37m\u001b[0m \u001b[1m3s\u001b[0m 243ms/step - accuracy: 0.9939 - loss: 0.0338 - val_accuracy: 1.0000 - val_loss: 0.0504\n",
      "Epoch 33/60\n",
      "\u001b[1m14/14\u001b[0m \u001b[32m━━━━━━━━━━━━━━━━━━━━\u001b[0m\u001b[37m\u001b[0m \u001b[1m3s\u001b[0m 244ms/step - accuracy: 0.9980 - loss: 0.0276 - val_accuracy: 1.0000 - val_loss: 0.0166\n",
      "Epoch 34/60\n",
      "\u001b[1m14/14\u001b[0m \u001b[32m━━━━━━━━━━━━━━━━━━━━\u001b[0m\u001b[37m\u001b[0m \u001b[1m3s\u001b[0m 244ms/step - accuracy: 0.9982 - loss: 0.0172 - val_accuracy: 1.0000 - val_loss: 0.0088\n",
      "Epoch 35/60\n",
      "\u001b[1m14/14\u001b[0m \u001b[32m━━━━━━━━━━━━━━━━━━━━\u001b[0m\u001b[37m\u001b[0m \u001b[1m3s\u001b[0m 243ms/step - accuracy: 0.9956 - loss: 0.0186 - val_accuracy: 1.0000 - val_loss: 0.0060\n",
      "Epoch 36/60\n",
      "\u001b[1m14/14\u001b[0m \u001b[32m━━━━━━━━━━━━━━━━━━━━\u001b[0m\u001b[37m\u001b[0m \u001b[1m3s\u001b[0m 244ms/step - accuracy: 0.9857 - loss: 0.0408 - val_accuracy: 1.0000 - val_loss: 0.0051\n",
      "Epoch 37/60\n",
      "\u001b[1m14/14\u001b[0m \u001b[32m━━━━━━━━━━━━━━━━━━━━\u001b[0m\u001b[37m\u001b[0m \u001b[1m3s\u001b[0m 244ms/step - accuracy: 0.9901 - loss: 0.0414 - val_accuracy: 0.9057 - val_loss: 0.3092\n",
      "Epoch 38/60\n",
      "\u001b[1m14/14\u001b[0m \u001b[32m━━━━━━━━━━━━━━━━━━━━\u001b[0m\u001b[37m\u001b[0m \u001b[1m3s\u001b[0m 243ms/step - accuracy: 0.9679 - loss: 0.0699 - val_accuracy: 0.8491 - val_loss: 1.0768\n",
      "Epoch 39/60\n",
      "\u001b[1m14/14\u001b[0m \u001b[32m━━━━━━━━━━━━━━━━━━━━\u001b[0m\u001b[37m\u001b[0m \u001b[1m3s\u001b[0m 244ms/step - accuracy: 0.9824 - loss: 0.0680 - val_accuracy: 0.6981 - val_loss: 1.7844\n",
      "Epoch 40/60\n",
      "\u001b[1m14/14\u001b[0m \u001b[32m━━━━━━━━━━━━━━━━━━━━\u001b[0m\u001b[37m\u001b[0m \u001b[1m3s\u001b[0m 243ms/step - accuracy: 0.9631 - loss: 0.0737 - val_accuracy: 0.8868 - val_loss: 0.2883\n",
      "Epoch 41/60\n",
      "\u001b[1m14/14\u001b[0m \u001b[32m━━━━━━━━━━━━━━━━━━━━\u001b[0m\u001b[37m\u001b[0m \u001b[1m3s\u001b[0m 244ms/step - accuracy: 0.9870 - loss: 0.0534 - val_accuracy: 1.0000 - val_loss: 0.0510\n",
      "Epoch 42/60\n",
      "\u001b[1m14/14\u001b[0m \u001b[32m━━━━━━━━━━━━━━━━━━━━\u001b[0m\u001b[37m\u001b[0m \u001b[1m3s\u001b[0m 244ms/step - accuracy: 0.9743 - loss: 0.0613 - val_accuracy: 1.0000 - val_loss: 0.0640\n",
      "Epoch 43/60\n",
      "\u001b[1m14/14\u001b[0m \u001b[32m━━━━━━━━━━━━━━━━━━━━\u001b[0m\u001b[37m\u001b[0m \u001b[1m3s\u001b[0m 244ms/step - accuracy: 0.9903 - loss: 0.0357 - val_accuracy: 1.0000 - val_loss: 0.0369\n",
      "Epoch 44/60\n",
      "\u001b[1m14/14\u001b[0m \u001b[32m━━━━━━━━━━━━━━━━━━━━\u001b[0m\u001b[37m\u001b[0m \u001b[1m3s\u001b[0m 244ms/step - accuracy: 0.9922 - loss: 0.0230 - val_accuracy: 1.0000 - val_loss: 0.0114\n",
      "Epoch 45/60\n",
      "\u001b[1m14/14\u001b[0m \u001b[32m━━━━━━━━━━━━━━━━━━━━\u001b[0m\u001b[37m\u001b[0m \u001b[1m3s\u001b[0m 244ms/step - accuracy: 0.9969 - loss: 0.0181 - val_accuracy: 1.0000 - val_loss: 0.0217\n",
      "Epoch 46/60\n",
      "\u001b[1m14/14\u001b[0m \u001b[32m━━━━━━━━━━━━━━━━━━━━\u001b[0m\u001b[37m\u001b[0m \u001b[1m3s\u001b[0m 243ms/step - accuracy: 0.9924 - loss: 0.0251 - val_accuracy: 0.8868 - val_loss: 0.3677\n",
      "Epoch 47/60\n",
      "\u001b[1m14/14\u001b[0m \u001b[32m━━━━━━━━━━━━━━━━━━━━\u001b[0m\u001b[37m\u001b[0m \u001b[1m3s\u001b[0m 244ms/step - accuracy: 0.9969 - loss: 0.0191 - val_accuracy: 0.6981 - val_loss: 2.0530\n",
      "Epoch 48/60\n",
      "\u001b[1m14/14\u001b[0m \u001b[32m━━━━━━━━━━━━━━━━━━━━\u001b[0m\u001b[37m\u001b[0m \u001b[1m3s\u001b[0m 244ms/step - accuracy: 0.9899 - loss: 0.0344 - val_accuracy: 1.0000 - val_loss: 0.0415\n",
      "Epoch 49/60\n",
      "\u001b[1m14/14\u001b[0m \u001b[32m━━━━━━━━━━━━━━━━━━━━\u001b[0m\u001b[37m\u001b[0m \u001b[1m3s\u001b[0m 243ms/step - accuracy: 0.9979 - loss: 0.0152 - val_accuracy: 1.0000 - val_loss: 0.0489\n",
      "Epoch 50/60\n",
      "\u001b[1m14/14\u001b[0m \u001b[32m━━━━━━━━━━━━━━━━━━━━\u001b[0m\u001b[37m\u001b[0m \u001b[1m3s\u001b[0m 244ms/step - accuracy: 0.9991 - loss: 0.0063 - val_accuracy: 1.0000 - val_loss: 0.0154\n",
      "Epoch 51/60\n",
      "\u001b[1m14/14\u001b[0m \u001b[32m━━━━━━━━━━━━━━━━━━━━\u001b[0m\u001b[37m\u001b[0m \u001b[1m3s\u001b[0m 244ms/step - accuracy: 0.9982 - loss: 0.0072 - val_accuracy: 1.0000 - val_loss: 0.0198\n",
      "Epoch 52/60\n",
      "\u001b[1m14/14\u001b[0m \u001b[32m━━━━━━━━━━━━━━━━━━━━\u001b[0m\u001b[37m\u001b[0m \u001b[1m3s\u001b[0m 244ms/step - accuracy: 0.9966 - loss: 0.0080 - val_accuracy: 1.0000 - val_loss: 0.0344\n",
      "Epoch 53/60\n",
      "\u001b[1m14/14\u001b[0m \u001b[32m━━━━━━━━━━━━━━━━━━━━\u001b[0m\u001b[37m\u001b[0m \u001b[1m3s\u001b[0m 243ms/step - accuracy: 0.9991 - loss: 0.0092 - val_accuracy: 1.0000 - val_loss: 0.0392\n",
      "Epoch 54/60\n",
      "\u001b[1m14/14\u001b[0m \u001b[32m━━━━━━━━━━━━━━━━━━━━\u001b[0m\u001b[37m\u001b[0m \u001b[1m3s\u001b[0m 244ms/step - accuracy: 0.9985 - loss: 0.0125 - val_accuracy: 1.0000 - val_loss: 0.1018\n",
      "Epoch 55/60\n",
      "\u001b[1m14/14\u001b[0m \u001b[32m━━━━━━━━━━━━━━━━━━━━\u001b[0m\u001b[37m\u001b[0m \u001b[1m3s\u001b[0m 243ms/step - accuracy: 0.9985 - loss: 0.0068 - val_accuracy: 1.0000 - val_loss: 0.0683\n",
      "Epoch 56/60\n",
      "\u001b[1m14/14\u001b[0m \u001b[32m━━━━━━━━━━━━━━━━━━━━\u001b[0m\u001b[37m\u001b[0m \u001b[1m3s\u001b[0m 243ms/step - accuracy: 0.9985 - loss: 0.0056 - val_accuracy: 0.8679 - val_loss: 0.8125\n",
      "Epoch 57/60\n",
      "\u001b[1m14/14\u001b[0m \u001b[32m━━━━━━━━━━━━━━━━━━━━\u001b[0m\u001b[37m\u001b[0m \u001b[1m3s\u001b[0m 243ms/step - accuracy: 0.9982 - loss: 0.0053 - val_accuracy: 0.8868 - val_loss: 0.3018\n",
      "Epoch 58/60\n",
      "\u001b[1m14/14\u001b[0m \u001b[32m━━━━━━━━━━━━━━━━━━━━\u001b[0m\u001b[37m\u001b[0m \u001b[1m3s\u001b[0m 244ms/step - accuracy: 0.9994 - loss: 0.0038 - val_accuracy: 1.0000 - val_loss: 0.0639\n",
      "Epoch 59/60\n",
      "\u001b[1m14/14\u001b[0m \u001b[32m━━━━━━━━━━━━━━━━━━━━\u001b[0m\u001b[37m\u001b[0m \u001b[1m3s\u001b[0m 244ms/step - accuracy: 0.9994 - loss: 0.0032 - val_accuracy: 1.0000 - val_loss: 0.0372\n",
      "Epoch 60/60\n",
      "\u001b[1m14/14\u001b[0m \u001b[32m━━━━━━━━━━━━━━━━━━━━\u001b[0m\u001b[37m\u001b[0m \u001b[1m3s\u001b[0m 245ms/step - accuracy: 0.9979 - loss: 0.0053 - val_accuracy: 1.0000 - val_loss: 0.0298\n",
      "\u001b[1m1/2\u001b[0m \u001b[32m━━━━━━━━━━\u001b[0m\u001b[37m━━━━━━━━━━\u001b[0m \u001b[1m0s\u001b[0m 127ms/step - accuracy: 1.0000 - loss: 0.0498"
     ]
    },
    {
     "name": "stderr",
     "output_type": "stream",
     "text": [
      "2024-06-16 10:56:48.519165: E external/local_xla/xla/service/gpu/buffer_comparator.cc:1137] Difference at 0: 4.73026, expected 4.13229\n",
      "2024-06-16 10:56:48.519245: E external/local_xla/xla/service/gpu/buffer_comparator.cc:1137] Difference at 4: 4.80661, expected 4.20864\n",
      "2024-06-16 10:56:48.519265: E external/local_xla/xla/service/gpu/buffer_comparator.cc:1137] Difference at 8: 4.63226, expected 4.03429\n",
      "2024-06-16 10:56:48.519279: E external/local_xla/xla/service/gpu/buffer_comparator.cc:1137] Difference at 10: 4.7562, expected 4.15823\n",
      "2024-06-16 10:56:48.519290: E external/local_xla/xla/service/gpu/buffer_comparator.cc:1137] Difference at 11: 4.11634, expected 3.51837\n",
      "2024-06-16 10:56:48.519300: E external/local_xla/xla/service/gpu/buffer_comparator.cc:1137] Difference at 12: 3.12891, expected 2.53093\n",
      "2024-06-16 10:56:48.519310: E external/local_xla/xla/service/gpu/buffer_comparator.cc:1137] Difference at 13: 4.18796, expected 3.58999\n",
      "2024-06-16 10:56:48.519321: E external/local_xla/xla/service/gpu/buffer_comparator.cc:1137] Difference at 28: 4.82644, expected 4.22847\n",
      "2024-06-16 10:56:48.519331: E external/local_xla/xla/service/gpu/buffer_comparator.cc:1137] Difference at 29: 3.67536, expected 3.07739\n",
      "2024-06-16 10:56:48.519341: E external/local_xla/xla/service/gpu/buffer_comparator.cc:1137] Difference at 30: 4.58767, expected 3.9897\n",
      "2024-06-16 10:56:48.555632: E external/local_xla/xla/service/gpu/conv_algorithm_picker.cc:705] Results mismatch between different convolution algorithms. This is likely a bug/unexpected loss of precision in cudnn.\n",
      "(f32[25,64,224,224]{3,2,1,0}, u8[0]{0}) custom-call(f32[25,3,224,224]{3,2,1,0}, f32[64,3,3,3]{3,2,1,0}, f32[64]{0}), window={size=3x3 pad=1_1x1_1}, dim_labels=bf01_oi01->bf01, custom_call_target=\"__cudnn$convBiasActivationForward\", backend_config={\"conv_result_scale\":1,\"activation_mode\":\"kRelu\",\"side_input_scale\":0,\"leakyrelu_alpha\":0} for eng20{k2=1,k4=1,k5=1,k6=0,k7=0} vs eng15{k5=1,k6=0,k7=1,k10=1}\n",
      "2024-06-16 10:56:48.555688: E external/local_xla/xla/service/gpu/conv_algorithm_picker.cc:270] Device: Tesla P100-PCIE-16GB\n",
      "2024-06-16 10:56:48.555703: E external/local_xla/xla/service/gpu/conv_algorithm_picker.cc:271] Platform: Compute Capability 6.0\n",
      "2024-06-16 10:56:48.555714: E external/local_xla/xla/service/gpu/conv_algorithm_picker.cc:272] Driver: 12020 (535.129.3)\n",
      "2024-06-16 10:56:48.555730: E external/local_xla/xla/service/gpu/conv_algorithm_picker.cc:273] Runtime: <undefined>\n",
      "2024-06-16 10:56:48.555751: E external/local_xla/xla/service/gpu/conv_algorithm_picker.cc:280] cudnn version: 8.9.0\n",
      "2024-06-16 10:56:49.327064: E external/local_xla/xla/service/gpu/buffer_comparator.cc:1137] Difference at 0: 4.73026, expected 4.13229\n",
      "2024-06-16 10:56:49.327125: E external/local_xla/xla/service/gpu/buffer_comparator.cc:1137] Difference at 4: 4.80661, expected 4.20864\n",
      "2024-06-16 10:56:49.327135: E external/local_xla/xla/service/gpu/buffer_comparator.cc:1137] Difference at 8: 4.63226, expected 4.03429\n",
      "2024-06-16 10:56:49.327143: E external/local_xla/xla/service/gpu/buffer_comparator.cc:1137] Difference at 10: 4.7562, expected 4.15823\n",
      "2024-06-16 10:56:49.327151: E external/local_xla/xla/service/gpu/buffer_comparator.cc:1137] Difference at 11: 4.11634, expected 3.51837\n",
      "2024-06-16 10:56:49.327159: E external/local_xla/xla/service/gpu/buffer_comparator.cc:1137] Difference at 12: 3.12891, expected 2.53093\n",
      "2024-06-16 10:56:49.327167: E external/local_xla/xla/service/gpu/buffer_comparator.cc:1137] Difference at 13: 4.18796, expected 3.58999\n",
      "2024-06-16 10:56:49.327175: E external/local_xla/xla/service/gpu/buffer_comparator.cc:1137] Difference at 28: 4.82644, expected 4.22847\n",
      "2024-06-16 10:56:49.327182: E external/local_xla/xla/service/gpu/buffer_comparator.cc:1137] Difference at 29: 3.67536, expected 3.07739\n",
      "2024-06-16 10:56:49.327190: E external/local_xla/xla/service/gpu/buffer_comparator.cc:1137] Difference at 30: 4.58767, expected 3.9897\n",
      "2024-06-16 10:56:49.362657: E external/local_xla/xla/service/gpu/conv_algorithm_picker.cc:705] Results mismatch between different convolution algorithms. This is likely a bug/unexpected loss of precision in cudnn.\n",
      "(f32[25,64,224,224]{3,2,1,0}, u8[0]{0}) custom-call(f32[25,3,224,224]{3,2,1,0}, f32[64,3,3,3]{3,2,1,0}, f32[64]{0}), window={size=3x3 pad=1_1x1_1}, dim_labels=bf01_oi01->bf01, custom_call_target=\"__cudnn$convBiasActivationForward\", backend_config={\"conv_result_scale\":1,\"activation_mode\":\"kRelu\",\"side_input_scale\":0,\"leakyrelu_alpha\":0} for eng20{k2=1,k4=1,k5=1,k6=0,k7=0} vs eng15{k5=1,k6=0,k7=1,k10=1}\n",
      "2024-06-16 10:56:49.362705: E external/local_xla/xla/service/gpu/conv_algorithm_picker.cc:270] Device: Tesla P100-PCIE-16GB\n",
      "2024-06-16 10:56:49.362713: E external/local_xla/xla/service/gpu/conv_algorithm_picker.cc:271] Platform: Compute Capability 6.0\n",
      "2024-06-16 10:56:49.362720: E external/local_xla/xla/service/gpu/conv_algorithm_picker.cc:272] Driver: 12020 (535.129.3)\n",
      "2024-06-16 10:56:49.362727: E external/local_xla/xla/service/gpu/conv_algorithm_picker.cc:273] Runtime: <undefined>\n",
      "2024-06-16 10:56:49.362744: E external/local_xla/xla/service/gpu/conv_algorithm_picker.cc:280] cudnn version: 8.9.0\n"
     ]
    },
    {
     "name": "stdout",
     "output_type": "stream",
     "text": [
      "\u001b[1m2/2\u001b[0m \u001b[32m━━━━━━━━━━━━━━━━━━━━\u001b[0m\u001b[37m\u001b[0m \u001b[1m12s\u001b[0m 12s/step - accuracy: 0.7310 - loss: 0.8409\n",
      "Test Accuracy for VGG19: 0.5964912176132202\n",
      "\u001b[1m2/2\u001b[0m \u001b[32m━━━━━━━━━━━━━━━━━━━━\u001b[0m\u001b[37m\u001b[0m \u001b[1m2s\u001b[0m 727ms/step\n",
      "              precision    recall  f1-score   support\n",
      "\n",
      "           0       0.60      1.00      0.75        34\n",
      "           1       0.00      0.00      0.00        23\n",
      "\n",
      "   micro avg       0.60      0.60      0.60        57\n",
      "   macro avg       0.30      0.50      0.37        57\n",
      "weighted avg       0.36      0.60      0.45        57\n",
      " samples avg       0.60      0.60      0.60        57\n",
      "\n"
     ]
    },
    {
     "data": {
      "image/png": "[encoded data removed]",
      "text/plain": [
       "<Figure size 1000x700 with 2 Axes>"
      ]
     },
     "metadata": {},
     "output_type": "display_data"
    }
   ],
   "source": [
    "model_name = \"VGG19\"\n",
    "model = create_model(model_name)\n",
    "train_and_evaluate_model(model, train_data, val_data, test_data, model_name)"
   ]
  },
  {
   "cell_type": "markdown",
   "id": "0d26f143",
   "metadata": {
    "papermill": {
     "duration": 0.374647,
     "end_time": "2024-06-16T10:57:02.257316",
     "exception": false,
     "start_time": "2024-06-16T10:57:01.882669",
     "status": "completed"
    },
    "tags": []
   },
   "source": [
    "# Xception"
   ]
  },
  {
   "cell_type": "code",
   "execution_count": 15,
   "id": "f305ba69",
   "metadata": {
    "execution": {
     "iopub.execute_input": "2024-06-16T10:57:02.905169Z",
     "iopub.status.busy": "2024-06-16T10:57:02.904300Z",
     "iopub.status.idle": "2024-06-16T11:02:42.973917Z",
     "shell.execute_reply": "2024-06-16T11:02:42.973010Z"
    },
    "papermill": {
     "duration": 340.394054,
     "end_time": "2024-06-16T11:02:42.976015",
     "exception": false,
     "start_time": "2024-06-16T10:57:02.581961",
     "status": "completed"
    },
    "tags": []
   },
   "outputs": [
    {
     "name": "stdout",
     "output_type": "stream",
     "text": [
      "Downloading data from https://storage.googleapis.com/tensorflow/keras-applications/xception/xception_weights_tf_dim_ordering_tf_kernels_notop.h5\n",
      "\u001b[1m83683744/83683744\u001b[0m \u001b[32m━━━━━━━━━━━━━━━━━━━━\u001b[0m\u001b[37m\u001b[0m \u001b[1m0s\u001b[0m 0us/step\n",
      "Epoch 1/60\n",
      "\u001b[1m14/14\u001b[0m \u001b[32m━━━━━━━━━━━━━━━━━━━━\u001b[0m\u001b[37m\u001b[0m \u001b[1m105s\u001b[0m 3s/step - accuracy: 0.6140 - loss: 0.7771 - val_accuracy: 0.3962 - val_loss: 1.0832\n",
      "Epoch 2/60\n",
      "\u001b[1m14/14\u001b[0m \u001b[32m━━━━━━━━━━━━━━━━━━━━\u001b[0m\u001b[37m\u001b[0m \u001b[1m4s\u001b[0m 262ms/step - accuracy: 0.8982 - loss: 0.2383 - val_accuracy: 0.5283 - val_loss: 0.9229\n",
      "Epoch 3/60\n",
      "\u001b[1m14/14\u001b[0m \u001b[32m━━━━━━━━━━━━━━━━━━━━\u001b[0m\u001b[37m\u001b[0m \u001b[1m4s\u001b[0m 263ms/step - accuracy: 0.9541 - loss: 0.1295 - val_accuracy: 0.6792 - val_loss: 0.8568\n",
      "Epoch 4/60\n",
      "\u001b[1m14/14\u001b[0m \u001b[32m━━━━━━━━━━━━━━━━━━━━\u001b[0m\u001b[37m\u001b[0m \u001b[1m4s\u001b[0m 261ms/step - accuracy: 0.9743 - loss: 0.0823 - val_accuracy: 0.6226 - val_loss: 0.8445\n",
      "Epoch 5/60\n",
      "\u001b[1m14/14\u001b[0m \u001b[32m━━━━━━━━━━━━━━━━━━━━\u001b[0m\u001b[37m\u001b[0m \u001b[1m4s\u001b[0m 262ms/step - accuracy: 0.9699 - loss: 0.0866 - val_accuracy: 0.6226 - val_loss: 0.8565\n",
      "Epoch 6/60\n",
      "\u001b[1m14/14\u001b[0m \u001b[32m━━━━━━━━━━━━━━━━━━━━\u001b[0m\u001b[37m\u001b[0m \u001b[1m4s\u001b[0m 262ms/step - accuracy: 0.9859 - loss: 0.0331 - val_accuracy: 0.6981 - val_loss: 0.7596\n",
      "Epoch 7/60\n",
      "\u001b[1m14/14\u001b[0m \u001b[32m━━━━━━━━━━━━━━━━━━━━\u001b[0m\u001b[37m\u001b[0m \u001b[1m4s\u001b[0m 261ms/step - accuracy: 0.9877 - loss: 0.0462 - val_accuracy: 0.6604 - val_loss: 0.7290\n",
      "Epoch 8/60\n",
      "\u001b[1m14/14\u001b[0m \u001b[32m━━━━━━━━━━━━━━━━━━━━\u001b[0m\u001b[37m\u001b[0m \u001b[1m4s\u001b[0m 262ms/step - accuracy: 0.9977 - loss: 0.0153 - val_accuracy: 0.7170 - val_loss: 0.7451\n",
      "Epoch 9/60\n",
      "\u001b[1m14/14\u001b[0m \u001b[32m━━━━━━━━━━━━━━━━━━━━\u001b[0m\u001b[37m\u001b[0m \u001b[1m4s\u001b[0m 262ms/step - accuracy: 0.9969 - loss: 0.0136 - val_accuracy: 0.6792 - val_loss: 0.7542\n",
      "Epoch 10/60\n",
      "\u001b[1m14/14\u001b[0m \u001b[32m━━━━━━━━━━━━━━━━━━━━\u001b[0m\u001b[37m\u001b[0m \u001b[1m4s\u001b[0m 264ms/step - accuracy: 0.9990 - loss: 0.0067 - val_accuracy: 0.7358 - val_loss: 0.7497\n",
      "Epoch 11/60\n",
      "\u001b[1m14/14\u001b[0m \u001b[32m━━━━━━━━━━━━━━━━━━━━\u001b[0m\u001b[37m\u001b[0m \u001b[1m4s\u001b[0m 260ms/step - accuracy: 1.0000 - loss: 0.0077 - val_accuracy: 0.6604 - val_loss: 0.7955\n",
      "Epoch 12/60\n",
      "\u001b[1m14/14\u001b[0m \u001b[32m━━━━━━━━━━━━━━━━━━━━\u001b[0m\u001b[37m\u001b[0m \u001b[1m4s\u001b[0m 261ms/step - accuracy: 0.9959 - loss: 0.0120 - val_accuracy: 0.6792 - val_loss: 0.7932\n",
      "Epoch 13/60\n",
      "\u001b[1m14/14\u001b[0m \u001b[32m━━━━━━━━━━━━━━━━━━━━\u001b[0m\u001b[37m\u001b[0m \u001b[1m4s\u001b[0m 262ms/step - accuracy: 0.9997 - loss: 0.0033 - val_accuracy: 0.6981 - val_loss: 0.8682\n",
      "Epoch 14/60\n",
      "\u001b[1m14/14\u001b[0m \u001b[32m━━━━━━━━━━━━━━━━━━━━\u001b[0m\u001b[37m\u001b[0m \u001b[1m4s\u001b[0m 261ms/step - accuracy: 0.9913 - loss: 0.0235 - val_accuracy: 0.6981 - val_loss: 0.9131\n",
      "Epoch 15/60\n",
      "\u001b[1m14/14\u001b[0m \u001b[32m━━━━━━━━━━━━━━━━━━━━\u001b[0m\u001b[37m\u001b[0m \u001b[1m4s\u001b[0m 261ms/step - accuracy: 0.9978 - loss: 0.0039 - val_accuracy: 0.6415 - val_loss: 0.9486\n",
      "Epoch 16/60\n",
      "\u001b[1m14/14\u001b[0m \u001b[32m━━━━━━━━━━━━━━━━━━━━\u001b[0m\u001b[37m\u001b[0m \u001b[1m4s\u001b[0m 261ms/step - accuracy: 1.0000 - loss: 0.0026 - val_accuracy: 0.6981 - val_loss: 0.9571\n",
      "Epoch 17/60\n",
      "\u001b[1m14/14\u001b[0m \u001b[32m━━━━━━━━━━━━━━━━━━━━\u001b[0m\u001b[37m\u001b[0m \u001b[1m4s\u001b[0m 262ms/step - accuracy: 0.9990 - loss: 0.0084 - val_accuracy: 0.6981 - val_loss: 1.0263\n",
      "Epoch 18/60\n",
      "\u001b[1m14/14\u001b[0m \u001b[32m━━━━━━━━━━━━━━━━━━━━\u001b[0m\u001b[37m\u001b[0m \u001b[1m4s\u001b[0m 262ms/step - accuracy: 1.0000 - loss: 0.0093 - val_accuracy: 0.6981 - val_loss: 1.1382\n",
      "Epoch 19/60\n",
      "\u001b[1m14/14\u001b[0m \u001b[32m━━━━━━━━━━━━━━━━━━━━\u001b[0m\u001b[37m\u001b[0m \u001b[1m4s\u001b[0m 262ms/step - accuracy: 0.9990 - loss: 0.0060 - val_accuracy: 0.6981 - val_loss: 1.2008\n",
      "Epoch 20/60\n",
      "\u001b[1m14/14\u001b[0m \u001b[32m━━━━━━━━━━━━━━━━━━━━\u001b[0m\u001b[37m\u001b[0m \u001b[1m4s\u001b[0m 261ms/step - accuracy: 1.0000 - loss: 0.0018 - val_accuracy: 0.6981 - val_loss: 1.2933\n",
      "Epoch 21/60\n",
      "\u001b[1m14/14\u001b[0m \u001b[32m━━━━━━━━━━━━━━━━━━━━\u001b[0m\u001b[37m\u001b[0m \u001b[1m4s\u001b[0m 262ms/step - accuracy: 1.0000 - loss: 0.0013 - val_accuracy: 0.7170 - val_loss: 1.3334\n",
      "Epoch 22/60\n",
      "\u001b[1m14/14\u001b[0m \u001b[32m━━━━━━━━━━━━━━━━━━━━\u001b[0m\u001b[37m\u001b[0m \u001b[1m4s\u001b[0m 261ms/step - accuracy: 0.9962 - loss: 0.0093 - val_accuracy: 0.7170 - val_loss: 1.3403\n",
      "Epoch 23/60\n",
      "\u001b[1m14/14\u001b[0m \u001b[32m━━━━━━━━━━━━━━━━━━━━\u001b[0m\u001b[37m\u001b[0m \u001b[1m4s\u001b[0m 262ms/step - accuracy: 0.9983 - loss: 0.0058 - val_accuracy: 0.6981 - val_loss: 1.3652\n",
      "Epoch 24/60\n",
      "\u001b[1m14/14\u001b[0m \u001b[32m━━━━━━━━━━━━━━━━━━━━\u001b[0m\u001b[37m\u001b[0m \u001b[1m4s\u001b[0m 262ms/step - accuracy: 1.0000 - loss: 0.0035 - val_accuracy: 0.7358 - val_loss: 1.2471\n",
      "Epoch 25/60\n",
      "\u001b[1m14/14\u001b[0m \u001b[32m━━━━━━━━━━━━━━━━━━━━\u001b[0m\u001b[37m\u001b[0m \u001b[1m4s\u001b[0m 261ms/step - accuracy: 0.9944 - loss: 0.0154 - val_accuracy: 0.7170 - val_loss: 1.1910\n",
      "Epoch 26/60\n",
      "\u001b[1m14/14\u001b[0m \u001b[32m━━━━━━━━━━━━━━━━━━━━\u001b[0m\u001b[37m\u001b[0m \u001b[1m4s\u001b[0m 261ms/step - accuracy: 1.0000 - loss: 0.0065 - val_accuracy: 0.6792 - val_loss: 1.1591\n",
      "Epoch 27/60\n",
      "\u001b[1m14/14\u001b[0m \u001b[32m━━━━━━━━━━━━━━━━━━━━\u001b[0m\u001b[37m\u001b[0m \u001b[1m4s\u001b[0m 262ms/step - accuracy: 0.9975 - loss: 0.0140 - val_accuracy: 0.7170 - val_loss: 1.4107\n",
      "Epoch 28/60\n",
      "\u001b[1m14/14\u001b[0m \u001b[32m━━━━━━━━━━━━━━━━━━━━\u001b[0m\u001b[37m\u001b[0m \u001b[1m4s\u001b[0m 262ms/step - accuracy: 0.9966 - loss: 0.0144 - val_accuracy: 0.6981 - val_loss: 1.4931\n",
      "Epoch 29/60\n",
      "\u001b[1m14/14\u001b[0m \u001b[32m━━━━━━━━━━━━━━━━━━━━\u001b[0m\u001b[37m\u001b[0m \u001b[1m4s\u001b[0m 261ms/step - accuracy: 0.9992 - loss: 0.0064 - val_accuracy: 0.7170 - val_loss: 1.4201\n",
      "Epoch 30/60\n",
      "\u001b[1m14/14\u001b[0m \u001b[32m━━━━━━━━━━━━━━━━━━━━\u001b[0m\u001b[37m\u001b[0m \u001b[1m4s\u001b[0m 262ms/step - accuracy: 0.9834 - loss: 0.0401 - val_accuracy: 0.6792 - val_loss: 1.6098\n",
      "Epoch 31/60\n",
      "\u001b[1m14/14\u001b[0m \u001b[32m━━━━━━━━━━━━━━━━━━━━\u001b[0m\u001b[37m\u001b[0m \u001b[1m4s\u001b[0m 263ms/step - accuracy: 0.9923 - loss: 0.0173 - val_accuracy: 0.7358 - val_loss: 1.5480\n",
      "Epoch 32/60\n",
      "\u001b[1m14/14\u001b[0m \u001b[32m━━━━━━━━━━━━━━━━━━━━\u001b[0m\u001b[37m\u001b[0m \u001b[1m4s\u001b[0m 261ms/step - accuracy: 0.9987 - loss: 0.0138 - val_accuracy: 0.6981 - val_loss: 1.8512\n",
      "Epoch 33/60\n",
      "\u001b[1m14/14\u001b[0m \u001b[32m━━━━━━━━━━━━━━━━━━━━\u001b[0m\u001b[37m\u001b[0m \u001b[1m4s\u001b[0m 262ms/step - accuracy: 0.9898 - loss: 0.0321 - val_accuracy: 0.7170 - val_loss: 1.8512\n",
      "Epoch 34/60\n",
      "\u001b[1m14/14\u001b[0m \u001b[32m━━━━━━━━━━━━━━━━━━━━\u001b[0m\u001b[37m\u001b[0m \u001b[1m4s\u001b[0m 261ms/step - accuracy: 0.9893 - loss: 0.0252 - val_accuracy: 0.5660 - val_loss: 2.0048\n",
      "Epoch 35/60\n",
      "\u001b[1m14/14\u001b[0m \u001b[32m━━━━━━━━━━━━━━━━━━━━\u001b[0m\u001b[37m\u001b[0m \u001b[1m4s\u001b[0m 261ms/step - accuracy: 0.9873 - loss: 0.0445 - val_accuracy: 0.6981 - val_loss: 1.8291\n",
      "Epoch 36/60\n",
      "\u001b[1m14/14\u001b[0m \u001b[32m━━━━━━━━━━━━━━━━━━━━\u001b[0m\u001b[37m\u001b[0m \u001b[1m4s\u001b[0m 263ms/step - accuracy: 0.9857 - loss: 0.0648 - val_accuracy: 0.6792 - val_loss: 2.1930\n",
      "Epoch 37/60\n",
      "\u001b[1m14/14\u001b[0m \u001b[32m━━━━━━━━━━━━━━━━━━━━\u001b[0m\u001b[37m\u001b[0m \u001b[1m4s\u001b[0m 261ms/step - accuracy: 0.9917 - loss: 0.0288 - val_accuracy: 0.6792 - val_loss: 2.1907\n",
      "Epoch 38/60\n",
      "\u001b[1m14/14\u001b[0m \u001b[32m━━━━━━━━━━━━━━━━━━━━\u001b[0m\u001b[37m\u001b[0m \u001b[1m4s\u001b[0m 263ms/step - accuracy: 0.9894 - loss: 0.0327 - val_accuracy: 0.7170 - val_loss: 2.3261\n",
      "Epoch 39/60\n",
      "\u001b[1m14/14\u001b[0m \u001b[32m━━━━━━━━━━━━━━━━━━━━\u001b[0m\u001b[37m\u001b[0m \u001b[1m4s\u001b[0m 263ms/step - accuracy: 0.9972 - loss: 0.0100 - val_accuracy: 0.6415 - val_loss: 2.1750\n",
      "Epoch 40/60\n",
      "\u001b[1m14/14\u001b[0m \u001b[32m━━━━━━━━━━━━━━━━━━━━\u001b[0m\u001b[37m\u001b[0m \u001b[1m4s\u001b[0m 260ms/step - accuracy: 0.9806 - loss: 0.0727 - val_accuracy: 0.6415 - val_loss: 2.1414\n",
      "Epoch 41/60\n",
      "\u001b[1m14/14\u001b[0m \u001b[32m━━━━━━━━━━━━━━━━━━━━\u001b[0m\u001b[37m\u001b[0m \u001b[1m4s\u001b[0m 262ms/step - accuracy: 0.9870 - loss: 0.0360 - val_accuracy: 0.5849 - val_loss: 2.0065\n",
      "Epoch 42/60\n",
      "\u001b[1m14/14\u001b[0m \u001b[32m━━━━━━━━━━━━━━━━━━━━\u001b[0m\u001b[37m\u001b[0m \u001b[1m4s\u001b[0m 262ms/step - accuracy: 0.9805 - loss: 0.0442 - val_accuracy: 0.7170 - val_loss: 1.8326\n",
      "Epoch 43/60\n",
      "\u001b[1m14/14\u001b[0m \u001b[32m━━━━━━━━━━━━━━━━━━━━\u001b[0m\u001b[37m\u001b[0m \u001b[1m4s\u001b[0m 262ms/step - accuracy: 0.9841 - loss: 0.0404 - val_accuracy: 0.6981 - val_loss: 1.5753\n",
      "Epoch 44/60\n",
      "\u001b[1m14/14\u001b[0m \u001b[32m━━━━━━━━━━━━━━━━━━━━\u001b[0m\u001b[37m\u001b[0m \u001b[1m4s\u001b[0m 262ms/step - accuracy: 0.9919 - loss: 0.0299 - val_accuracy: 0.6415 - val_loss: 1.8813\n",
      "Epoch 45/60\n",
      "\u001b[1m14/14\u001b[0m \u001b[32m━━━━━━━━━━━━━━━━━━━━\u001b[0m\u001b[37m\u001b[0m \u001b[1m4s\u001b[0m 261ms/step - accuracy: 0.9808 - loss: 0.0436 - val_accuracy: 0.5849 - val_loss: 2.7702\n",
      "Epoch 46/60\n",
      "\u001b[1m14/14\u001b[0m \u001b[32m━━━━━━━━━━━━━━━━━━━━\u001b[0m\u001b[37m\u001b[0m \u001b[1m4s\u001b[0m 260ms/step - accuracy: 0.9956 - loss: 0.0241 - val_accuracy: 0.5472 - val_loss: 3.7246\n",
      "Epoch 47/60\n",
      "\u001b[1m14/14\u001b[0m \u001b[32m━━━━━━━━━━━━━━━━━━━━\u001b[0m\u001b[37m\u001b[0m \u001b[1m4s\u001b[0m 260ms/step - accuracy: 0.9926 - loss: 0.0410 - val_accuracy: 0.6226 - val_loss: 2.2674\n",
      "Epoch 48/60\n",
      "\u001b[1m14/14\u001b[0m \u001b[32m━━━━━━━━━━━━━━━━━━━━\u001b[0m\u001b[37m\u001b[0m \u001b[1m4s\u001b[0m 262ms/step - accuracy: 0.9923 - loss: 0.0165 - val_accuracy: 0.6792 - val_loss: 2.3185\n",
      "Epoch 49/60\n",
      "\u001b[1m14/14\u001b[0m \u001b[32m━━━━━━━━━━━━━━━━━━━━\u001b[0m\u001b[37m\u001b[0m \u001b[1m4s\u001b[0m 263ms/step - accuracy: 0.9994 - loss: 0.0026 - val_accuracy: 0.6604 - val_loss: 2.8117\n",
      "Epoch 50/60\n",
      "\u001b[1m14/14\u001b[0m \u001b[32m━━━━━━━━━━━━━━━━━━━━\u001b[0m\u001b[37m\u001b[0m \u001b[1m5s\u001b[0m 261ms/step - accuracy: 0.9827 - loss: 0.0848 - val_accuracy: 0.7170 - val_loss: 1.9264\n",
      "Epoch 51/60\n",
      "\u001b[1m14/14\u001b[0m \u001b[32m━━━━━━━━━━━━━━━━━━━━\u001b[0m\u001b[37m\u001b[0m \u001b[1m4s\u001b[0m 261ms/step - accuracy: 0.9958 - loss: 0.0149 - val_accuracy: 0.7736 - val_loss: 2.1335\n",
      "Epoch 52/60\n",
      "\u001b[1m14/14\u001b[0m \u001b[32m━━━━━━━━━━━━━━━━━━━━\u001b[0m\u001b[37m\u001b[0m \u001b[1m4s\u001b[0m 261ms/step - accuracy: 1.0000 - loss: 0.0027 - val_accuracy: 0.7358 - val_loss: 2.1958\n",
      "Epoch 53/60\n",
      "\u001b[1m14/14\u001b[0m \u001b[32m━━━━━━━━━━━━━━━━━━━━\u001b[0m\u001b[37m\u001b[0m \u001b[1m4s\u001b[0m 261ms/step - accuracy: 0.9995 - loss: 0.0044 - val_accuracy: 0.7547 - val_loss: 2.1342\n",
      "Epoch 54/60\n",
      "\u001b[1m14/14\u001b[0m \u001b[32m━━━━━━━━━━━━━━━━━━━━\u001b[0m\u001b[37m\u001b[0m \u001b[1m4s\u001b[0m 260ms/step - accuracy: 0.9938 - loss: 0.0143 - val_accuracy: 0.6792 - val_loss: 2.4588\n",
      "Epoch 55/60\n",
      "\u001b[1m14/14\u001b[0m \u001b[32m━━━━━━━━━━━━━━━━━━━━\u001b[0m\u001b[37m\u001b[0m \u001b[1m4s\u001b[0m 262ms/step - accuracy: 0.9928 - loss: 0.0182 - val_accuracy: 0.7358 - val_loss: 1.9854\n",
      "Epoch 56/60\n",
      "\u001b[1m14/14\u001b[0m \u001b[32m━━━━━━━━━━━━━━━━━━━━\u001b[0m\u001b[37m\u001b[0m \u001b[1m4s\u001b[0m 262ms/step - accuracy: 0.9983 - loss: 0.0054 - val_accuracy: 0.6604 - val_loss: 2.0077\n",
      "Epoch 57/60\n",
      "\u001b[1m14/14\u001b[0m \u001b[32m━━━━━━━━━━━━━━━━━━━━\u001b[0m\u001b[37m\u001b[0m \u001b[1m4s\u001b[0m 260ms/step - accuracy: 0.9997 - loss: 0.0017 - val_accuracy: 0.6981 - val_loss: 1.9996\n",
      "Epoch 58/60\n",
      "\u001b[1m14/14\u001b[0m \u001b[32m━━━━━━━━━━━━━━━━━━━━\u001b[0m\u001b[37m\u001b[0m \u001b[1m4s\u001b[0m 261ms/step - accuracy: 1.0000 - loss: 0.0011 - val_accuracy: 0.6981 - val_loss: 2.0842\n",
      "Epoch 59/60\n",
      "\u001b[1m14/14\u001b[0m \u001b[32m━━━━━━━━━━━━━━━━━━━━\u001b[0m\u001b[37m\u001b[0m \u001b[1m4s\u001b[0m 262ms/step - accuracy: 1.0000 - loss: 0.0016 - val_accuracy: 0.6792 - val_loss: 2.1026\n",
      "Epoch 60/60\n",
      "\u001b[1m14/14\u001b[0m \u001b[32m━━━━━━━━━━━━━━━━━━━━\u001b[0m\u001b[37m\u001b[0m \u001b[1m4s\u001b[0m 261ms/step - accuracy: 0.9979 - loss: 0.0067 - val_accuracy: 0.6415 - val_loss: 1.9140\n",
      "\u001b[1m2/2\u001b[0m \u001b[32m━━━━━━━━━━━━━━━━━━━━\u001b[0m\u001b[37m\u001b[0m \u001b[1m7s\u001b[0m 7s/step - accuracy: 0.8284 - loss: 0.6127\n",
      "Test Accuracy for Xception: 0.7894737124443054\n",
      "\u001b[1m2/2\u001b[0m \u001b[32m━━━━━━━━━━━━━━━━━━━━\u001b[0m\u001b[37m\u001b[0m \u001b[1m6s\u001b[0m 3s/step\n",
      "              precision    recall  f1-score   support\n",
      "\n",
      "           0       0.79      0.88      0.83        34\n",
      "           1       0.79      0.65      0.71        23\n",
      "\n",
      "   micro avg       0.79      0.79      0.79        57\n",
      "   macro avg       0.79      0.77      0.77        57\n",
      "weighted avg       0.79      0.79      0.79        57\n",
      " samples avg       0.79      0.79      0.79        57\n",
      "\n"
     ]
    },
    {
     "data": {
      "image/png": "[encoded data removed]",
      "text/plain": [
       "<Figure size 1000x700 with 2 Axes>"
      ]
     },
     "metadata": {},
     "output_type": "display_data"
    }
   ],
   "source": [
    "model_name = \"Xception\"\n",
    "model = create_model(model_name)\n",
    "train_and_evaluate_model(model, train_data, val_data, test_data, model_name)"
   ]
  },
  {
   "cell_type": "markdown",
   "id": "96ad5b63",
   "metadata": {
    "papermill": {
     "duration": 0.417813,
     "end_time": "2024-06-16T11:02:43.800850",
     "exception": false,
     "start_time": "2024-06-16T11:02:43.383037",
     "status": "completed"
    },
    "tags": []
   },
   "source": [
    "# NASNetMobile"
   ]
  },
  {
   "cell_type": "code",
   "execution_count": 16,
   "id": "09fb73f5",
   "metadata": {
    "execution": {
     "iopub.execute_input": "2024-06-16T11:02:44.654573Z",
     "iopub.status.busy": "2024-06-16T11:02:44.654210Z",
     "iopub.status.idle": "2024-06-16T11:14:10.639248Z",
     "shell.execute_reply": "2024-06-16T11:14:10.638314Z"
    },
    "papermill": {
     "duration": 686.438035,
     "end_time": "2024-06-16T11:14:10.641172",
     "exception": false,
     "start_time": "2024-06-16T11:02:44.203137",
     "status": "completed"
    },
    "tags": []
   },
   "outputs": [
    {
     "name": "stdout",
     "output_type": "stream",
     "text": [
      "Downloading data from https://storage.googleapis.com/tensorflow/keras-applications/nasnet/NASNet-mobile-no-top.h5\n",
      "\u001b[1m19993432/19993432\u001b[0m \u001b[32m━━━━━━━━━━━━━━━━━━━━\u001b[0m\u001b[37m\u001b[0m \u001b[1m0s\u001b[0m 0us/step\n",
      "Epoch 1/60\n",
      "\u001b[1m14/14\u001b[0m \u001b[32m━━━━━━━━━━━━━━━━━━━━\u001b[0m\u001b[37m\u001b[0m \u001b[1m438s\u001b[0m 14s/step - accuracy: 0.5189 - loss: 1.1072 - val_accuracy: 0.3962 - val_loss: 2.7026\n",
      "Epoch 2/60\n",
      "\u001b[1m14/14\u001b[0m \u001b[32m━━━━━━━━━━━━━━━━━━━━\u001b[0m\u001b[37m\u001b[0m \u001b[1m3s\u001b[0m 241ms/step - accuracy: 0.8376 - loss: 0.3651 - val_accuracy: 0.4151 - val_loss: 1.5636\n",
      "Epoch 3/60\n",
      "\u001b[1m14/14\u001b[0m \u001b[32m━━━━━━━━━━━━━━━━━━━━\u001b[0m\u001b[37m\u001b[0m \u001b[1m3s\u001b[0m 239ms/step - accuracy: 0.8989 - loss: 0.2851 - val_accuracy: 0.4906 - val_loss: 1.1425\n",
      "Epoch 4/60\n",
      "\u001b[1m14/14\u001b[0m \u001b[32m━━━━━━━━━━━━━━━━━━━━\u001b[0m\u001b[37m\u001b[0m \u001b[1m3s\u001b[0m 241ms/step - accuracy: 0.9571 - loss: 0.1346 - val_accuracy: 0.5472 - val_loss: 0.9163\n",
      "Epoch 5/60\n",
      "\u001b[1m14/14\u001b[0m \u001b[32m━━━━━━━━━━━━━━━━━━━━\u001b[0m\u001b[37m\u001b[0m \u001b[1m3s\u001b[0m 247ms/step - accuracy: 0.9655 - loss: 0.1076 - val_accuracy: 0.4906 - val_loss: 0.8754\n",
      "Epoch 6/60\n",
      "\u001b[1m14/14\u001b[0m \u001b[32m━━━━━━━━━━━━━━━━━━━━\u001b[0m\u001b[37m\u001b[0m \u001b[1m3s\u001b[0m 239ms/step - accuracy: 0.9971 - loss: 0.0473 - val_accuracy: 0.6038 - val_loss: 0.7774\n",
      "Epoch 7/60\n",
      "\u001b[1m14/14\u001b[0m \u001b[32m━━━━━━━━━━━━━━━━━━━━\u001b[0m\u001b[37m\u001b[0m \u001b[1m3s\u001b[0m 237ms/step - accuracy: 0.9950 - loss: 0.0581 - val_accuracy: 0.5849 - val_loss: 0.7452\n",
      "Epoch 8/60\n",
      "\u001b[1m14/14\u001b[0m \u001b[32m━━━━━━━━━━━━━━━━━━━━\u001b[0m\u001b[37m\u001b[0m \u001b[1m3s\u001b[0m 240ms/step - accuracy: 0.9954 - loss: 0.0277 - val_accuracy: 0.5849 - val_loss: 0.7235\n",
      "Epoch 9/60\n",
      "\u001b[1m14/14\u001b[0m \u001b[32m━━━━━━━━━━━━━━━━━━━━\u001b[0m\u001b[37m\u001b[0m \u001b[1m3s\u001b[0m 233ms/step - accuracy: 0.9898 - loss: 0.0433 - val_accuracy: 0.6038 - val_loss: 0.6966\n",
      "Epoch 10/60\n",
      "\u001b[1m14/14\u001b[0m \u001b[32m━━━━━━━━━━━━━━━━━━━━\u001b[0m\u001b[37m\u001b[0m \u001b[1m3s\u001b[0m 233ms/step - accuracy: 1.0000 - loss: 0.0222 - val_accuracy: 0.6226 - val_loss: 0.7222\n",
      "Epoch 11/60\n",
      "\u001b[1m14/14\u001b[0m \u001b[32m━━━━━━━━━━━━━━━━━━━━\u001b[0m\u001b[37m\u001b[0m \u001b[1m3s\u001b[0m 241ms/step - accuracy: 0.9931 - loss: 0.0239 - val_accuracy: 0.6226 - val_loss: 0.7371\n",
      "Epoch 12/60\n",
      "\u001b[1m14/14\u001b[0m \u001b[32m━━━━━━━━━━━━━━━━━━━━\u001b[0m\u001b[37m\u001b[0m \u001b[1m3s\u001b[0m 238ms/step - accuracy: 0.9978 - loss: 0.0204 - val_accuracy: 0.6226 - val_loss: 0.7773\n",
      "Epoch 13/60\n",
      "\u001b[1m14/14\u001b[0m \u001b[32m━━━━━━━━━━━━━━━━━━━━\u001b[0m\u001b[37m\u001b[0m \u001b[1m3s\u001b[0m 239ms/step - accuracy: 1.0000 - loss: 0.0137 - val_accuracy: 0.6226 - val_loss: 0.8233\n",
      "Epoch 14/60\n",
      "\u001b[1m14/14\u001b[0m \u001b[32m━━━━━━━━━━━━━━━━━━━━\u001b[0m\u001b[37m\u001b[0m \u001b[1m3s\u001b[0m 237ms/step - accuracy: 0.9994 - loss: 0.0086 - val_accuracy: 0.6038 - val_loss: 0.8457\n",
      "Epoch 15/60\n",
      "\u001b[1m14/14\u001b[0m \u001b[32m━━━━━━━━━━━━━━━━━━━━\u001b[0m\u001b[37m\u001b[0m \u001b[1m3s\u001b[0m 237ms/step - accuracy: 0.9992 - loss: 0.0080 - val_accuracy: 0.5849 - val_loss: 0.8642\n",
      "Epoch 16/60\n",
      "\u001b[1m14/14\u001b[0m \u001b[32m━━━━━━━━━━━━━━━━━━━━\u001b[0m\u001b[37m\u001b[0m \u001b[1m3s\u001b[0m 236ms/step - accuracy: 1.0000 - loss: 0.0108 - val_accuracy: 0.5849 - val_loss: 0.8923\n",
      "Epoch 17/60\n",
      "\u001b[1m14/14\u001b[0m \u001b[32m━━━━━━━━━━━━━━━━━━━━\u001b[0m\u001b[37m\u001b[0m \u001b[1m3s\u001b[0m 238ms/step - accuracy: 1.0000 - loss: 0.0063 - val_accuracy: 0.6226 - val_loss: 0.8993\n",
      "Epoch 18/60\n",
      "\u001b[1m14/14\u001b[0m \u001b[32m━━━━━━━━━━━━━━━━━━━━\u001b[0m\u001b[37m\u001b[0m \u001b[1m3s\u001b[0m 234ms/step - accuracy: 0.9861 - loss: 0.0396 - val_accuracy: 0.6415 - val_loss: 0.9784\n",
      "Epoch 19/60\n",
      "\u001b[1m14/14\u001b[0m \u001b[32m━━━━━━━━━━━━━━━━━━━━\u001b[0m\u001b[37m\u001b[0m \u001b[1m3s\u001b[0m 236ms/step - accuracy: 0.9985 - loss: 0.0097 - val_accuracy: 0.6226 - val_loss: 1.0143\n",
      "Epoch 20/60\n",
      "\u001b[1m14/14\u001b[0m \u001b[32m━━━━━━━━━━━━━━━━━━━━\u001b[0m\u001b[37m\u001b[0m \u001b[1m3s\u001b[0m 235ms/step - accuracy: 1.0000 - loss: 0.0057 - val_accuracy: 0.6226 - val_loss: 1.0551\n",
      "Epoch 21/60\n",
      "\u001b[1m14/14\u001b[0m \u001b[32m━━━━━━━━━━━━━━━━━━━━\u001b[0m\u001b[37m\u001b[0m \u001b[1m3s\u001b[0m 238ms/step - accuracy: 0.9997 - loss: 0.0053 - val_accuracy: 0.6226 - val_loss: 1.0829\n",
      "Epoch 22/60\n",
      "\u001b[1m14/14\u001b[0m \u001b[32m━━━━━━━━━━━━━━━━━━━━\u001b[0m\u001b[37m\u001b[0m \u001b[1m3s\u001b[0m 239ms/step - accuracy: 0.9952 - loss: 0.0166 - val_accuracy: 0.5849 - val_loss: 1.1799\n",
      "Epoch 23/60\n",
      "\u001b[1m14/14\u001b[0m \u001b[32m━━━━━━━━━━━━━━━━━━━━\u001b[0m\u001b[37m\u001b[0m \u001b[1m3s\u001b[0m 240ms/step - accuracy: 1.0000 - loss: 0.0045 - val_accuracy: 0.6038 - val_loss: 1.2337\n",
      "Epoch 24/60\n",
      "\u001b[1m14/14\u001b[0m \u001b[32m━━━━━━━━━━━━━━━━━━━━\u001b[0m\u001b[37m\u001b[0m \u001b[1m5s\u001b[0m 239ms/step - accuracy: 1.0000 - loss: 0.0064 - val_accuracy: 0.6038 - val_loss: 1.2408\n",
      "Epoch 25/60\n",
      "\u001b[1m14/14\u001b[0m \u001b[32m━━━━━━━━━━━━━━━━━━━━\u001b[0m\u001b[37m\u001b[0m \u001b[1m3s\u001b[0m 236ms/step - accuracy: 1.0000 - loss: 0.0038 - val_accuracy: 0.6038 - val_loss: 1.2724\n",
      "Epoch 26/60\n",
      "\u001b[1m14/14\u001b[0m \u001b[32m━━━━━━━━━━━━━━━━━━━━\u001b[0m\u001b[37m\u001b[0m \u001b[1m3s\u001b[0m 235ms/step - accuracy: 1.0000 - loss: 0.0024 - val_accuracy: 0.6038 - val_loss: 1.3091\n",
      "Epoch 27/60\n",
      "\u001b[1m14/14\u001b[0m \u001b[32m━━━━━━━━━━━━━━━━━━━━\u001b[0m\u001b[37m\u001b[0m \u001b[1m3s\u001b[0m 237ms/step - accuracy: 0.9974 - loss: 0.0074 - val_accuracy: 0.6038 - val_loss: 1.3269\n",
      "Epoch 28/60\n",
      "\u001b[1m14/14\u001b[0m \u001b[32m━━━━━━━━━━━━━━━━━━━━\u001b[0m\u001b[37m\u001b[0m \u001b[1m3s\u001b[0m 239ms/step - accuracy: 0.9990 - loss: 0.0053 - val_accuracy: 0.6038 - val_loss: 1.3580\n",
      "Epoch 29/60\n",
      "\u001b[1m14/14\u001b[0m \u001b[32m━━━━━━━━━━━━━━━━━━━━\u001b[0m\u001b[37m\u001b[0m \u001b[1m3s\u001b[0m 239ms/step - accuracy: 1.0000 - loss: 0.0060 - val_accuracy: 0.6038 - val_loss: 1.4002\n",
      "Epoch 30/60\n",
      "\u001b[1m14/14\u001b[0m \u001b[32m━━━━━━━━━━━━━━━━━━━━\u001b[0m\u001b[37m\u001b[0m \u001b[1m3s\u001b[0m 240ms/step - accuracy: 0.9979 - loss: 0.0073 - val_accuracy: 0.6038 - val_loss: 1.4859\n",
      "Epoch 31/60\n",
      "\u001b[1m14/14\u001b[0m \u001b[32m━━━━━━━━━━━━━━━━━━━━\u001b[0m\u001b[37m\u001b[0m \u001b[1m3s\u001b[0m 242ms/step - accuracy: 0.9978 - loss: 0.0153 - val_accuracy: 0.6038 - val_loss: 1.4236\n",
      "Epoch 32/60\n",
      "\u001b[1m14/14\u001b[0m \u001b[32m━━━━━━━━━━━━━━━━━━━━\u001b[0m\u001b[37m\u001b[0m \u001b[1m3s\u001b[0m 240ms/step - accuracy: 1.0000 - loss: 0.0082 - val_accuracy: 0.6038 - val_loss: 1.4413\n",
      "Epoch 33/60\n",
      "\u001b[1m14/14\u001b[0m \u001b[32m━━━━━━━━━━━━━━━━━━━━\u001b[0m\u001b[37m\u001b[0m \u001b[1m3s\u001b[0m 236ms/step - accuracy: 0.9982 - loss: 0.0101 - val_accuracy: 0.6038 - val_loss: 1.4946\n",
      "Epoch 34/60\n",
      "\u001b[1m14/14\u001b[0m \u001b[32m━━━━━━━━━━━━━━━━━━━━\u001b[0m\u001b[37m\u001b[0m \u001b[1m3s\u001b[0m 238ms/step - accuracy: 0.9962 - loss: 0.0091 - val_accuracy: 0.6038 - val_loss: 1.4887\n",
      "Epoch 35/60\n",
      "\u001b[1m14/14\u001b[0m \u001b[32m━━━━━━━━━━━━━━━━━━━━\u001b[0m\u001b[37m\u001b[0m \u001b[1m3s\u001b[0m 237ms/step - accuracy: 1.0000 - loss: 0.0065 - val_accuracy: 0.6038 - val_loss: 1.5028\n",
      "Epoch 36/60\n",
      "\u001b[1m14/14\u001b[0m \u001b[32m━━━━━━━━━━━━━━━━━━━━\u001b[0m\u001b[37m\u001b[0m \u001b[1m3s\u001b[0m 238ms/step - accuracy: 0.9974 - loss: 0.0072 - val_accuracy: 0.6038 - val_loss: 1.5202\n",
      "Epoch 37/60\n",
      "\u001b[1m14/14\u001b[0m \u001b[32m━━━━━━━━━━━━━━━━━━━━\u001b[0m\u001b[37m\u001b[0m \u001b[1m3s\u001b[0m 238ms/step - accuracy: 0.9969 - loss: 0.0053 - val_accuracy: 0.6038 - val_loss: 1.5697\n",
      "Epoch 38/60\n",
      "\u001b[1m14/14\u001b[0m \u001b[32m━━━━━━━━━━━━━━━━━━━━\u001b[0m\u001b[37m\u001b[0m \u001b[1m3s\u001b[0m 238ms/step - accuracy: 0.9931 - loss: 0.0101 - val_accuracy: 0.6038 - val_loss: 1.5516\n",
      "Epoch 39/60\n",
      "\u001b[1m14/14\u001b[0m \u001b[32m━━━━━━━━━━━━━━━━━━━━\u001b[0m\u001b[37m\u001b[0m \u001b[1m3s\u001b[0m 239ms/step - accuracy: 0.9987 - loss: 0.0046 - val_accuracy: 0.6038 - val_loss: 1.7351\n",
      "Epoch 40/60\n",
      "\u001b[1m14/14\u001b[0m \u001b[32m━━━━━━━━━━━━━━━━━━━━\u001b[0m\u001b[37m\u001b[0m \u001b[1m3s\u001b[0m 233ms/step - accuracy: 0.9995 - loss: 0.0045 - val_accuracy: 0.6038 - val_loss: 1.8830\n",
      "Epoch 41/60\n",
      "\u001b[1m14/14\u001b[0m \u001b[32m━━━━━━━━━━━━━━━━━━━━\u001b[0m\u001b[37m\u001b[0m \u001b[1m3s\u001b[0m 235ms/step - accuracy: 0.9995 - loss: 0.0022 - val_accuracy: 0.6038 - val_loss: 1.9060\n",
      "Epoch 42/60\n",
      "\u001b[1m14/14\u001b[0m \u001b[32m━━━━━━━━━━━━━━━━━━━━\u001b[0m\u001b[37m\u001b[0m \u001b[1m3s\u001b[0m 241ms/step - accuracy: 1.0000 - loss: 0.0024 - val_accuracy: 0.6038 - val_loss: 1.9505\n",
      "Epoch 43/60\n",
      "\u001b[1m14/14\u001b[0m \u001b[32m━━━━━━━━━━━━━━━━━━━━\u001b[0m\u001b[37m\u001b[0m \u001b[1m3s\u001b[0m 238ms/step - accuracy: 1.0000 - loss: 0.0066 - val_accuracy: 0.6038 - val_loss: 1.8163\n",
      "Epoch 44/60\n",
      "\u001b[1m14/14\u001b[0m \u001b[32m━━━━━━━━━━━━━━━━━━━━\u001b[0m\u001b[37m\u001b[0m \u001b[1m3s\u001b[0m 238ms/step - accuracy: 1.0000 - loss: 0.0023 - val_accuracy: 0.6038 - val_loss: 1.7793\n",
      "Epoch 45/60\n",
      "\u001b[1m14/14\u001b[0m \u001b[32m━━━━━━━━━━━━━━━━━━━━\u001b[0m\u001b[37m\u001b[0m \u001b[1m3s\u001b[0m 238ms/step - accuracy: 1.0000 - loss: 0.0024 - val_accuracy: 0.6038 - val_loss: 1.8218\n",
      "Epoch 46/60\n",
      "\u001b[1m14/14\u001b[0m \u001b[32m━━━━━━━━━━━━━━━━━━━━\u001b[0m\u001b[37m\u001b[0m \u001b[1m3s\u001b[0m 237ms/step - accuracy: 0.9985 - loss: 0.0039 - val_accuracy: 0.6038 - val_loss: 1.8127\n",
      "Epoch 47/60\n",
      "\u001b[1m14/14\u001b[0m \u001b[32m━━━━━━━━━━━━━━━━━━━━\u001b[0m\u001b[37m\u001b[0m \u001b[1m3s\u001b[0m 236ms/step - accuracy: 1.0000 - loss: 0.0010 - val_accuracy: 0.6038 - val_loss: 1.7993\n",
      "Epoch 48/60\n",
      "\u001b[1m14/14\u001b[0m \u001b[32m━━━━━━━━━━━━━━━━━━━━\u001b[0m\u001b[37m\u001b[0m \u001b[1m3s\u001b[0m 241ms/step - accuracy: 0.9992 - loss: 0.0052 - val_accuracy: 0.6038 - val_loss: 1.8455\n",
      "Epoch 49/60\n",
      "\u001b[1m14/14\u001b[0m \u001b[32m━━━━━━━━━━━━━━━━━━━━\u001b[0m\u001b[37m\u001b[0m \u001b[1m3s\u001b[0m 237ms/step - accuracy: 1.0000 - loss: 0.0049 - val_accuracy: 0.6038 - val_loss: 1.8236\n",
      "Epoch 50/60\n",
      "\u001b[1m14/14\u001b[0m \u001b[32m━━━━━━━━━━━━━━━━━━━━\u001b[0m\u001b[37m\u001b[0m \u001b[1m3s\u001b[0m 239ms/step - accuracy: 1.0000 - loss: 0.0024 - val_accuracy: 0.6038 - val_loss: 1.8087\n",
      "Epoch 51/60\n",
      "\u001b[1m14/14\u001b[0m \u001b[32m━━━━━━━━━━━━━━━━━━━━\u001b[0m\u001b[37m\u001b[0m \u001b[1m3s\u001b[0m 242ms/step - accuracy: 0.9969 - loss: 0.0081 - val_accuracy: 0.6038 - val_loss: 1.6366\n",
      "Epoch 52/60\n",
      "\u001b[1m14/14\u001b[0m \u001b[32m━━━━━━━━━━━━━━━━━━━━\u001b[0m\u001b[37m\u001b[0m \u001b[1m3s\u001b[0m 246ms/step - accuracy: 1.0000 - loss: 0.0024 - val_accuracy: 0.6038 - val_loss: 1.5541\n",
      "Epoch 53/60\n",
      "\u001b[1m14/14\u001b[0m \u001b[32m━━━━━━━━━━━━━━━━━━━━\u001b[0m\u001b[37m\u001b[0m \u001b[1m3s\u001b[0m 236ms/step - accuracy: 1.0000 - loss: 0.0020 - val_accuracy: 0.6038 - val_loss: 1.6068\n",
      "Epoch 54/60\n",
      "\u001b[1m14/14\u001b[0m \u001b[32m━━━━━━━━━━━━━━━━━━━━\u001b[0m\u001b[37m\u001b[0m \u001b[1m3s\u001b[0m 236ms/step - accuracy: 1.0000 - loss: 0.0034 - val_accuracy: 0.6038 - val_loss: 1.7240\n",
      "Epoch 55/60\n",
      "\u001b[1m14/14\u001b[0m \u001b[32m━━━━━━━━━━━━━━━━━━━━\u001b[0m\u001b[37m\u001b[0m \u001b[1m3s\u001b[0m 241ms/step - accuracy: 1.0000 - loss: 0.0014 - val_accuracy: 0.6038 - val_loss: 1.7764\n",
      "Epoch 56/60\n",
      "\u001b[1m14/14\u001b[0m \u001b[32m━━━━━━━━━━━━━━━━━━━━\u001b[0m\u001b[37m\u001b[0m \u001b[1m3s\u001b[0m 239ms/step - accuracy: 1.0000 - loss: 0.0015 - val_accuracy: 0.6038 - val_loss: 1.7922\n",
      "Epoch 57/60\n",
      "\u001b[1m14/14\u001b[0m \u001b[32m━━━━━━━━━━━━━━━━━━━━\u001b[0m\u001b[37m\u001b[0m \u001b[1m3s\u001b[0m 237ms/step - accuracy: 1.0000 - loss: 9.6827e-04 - val_accuracy: 0.6038 - val_loss: 1.7796\n",
      "Epoch 58/60\n",
      "\u001b[1m14/14\u001b[0m \u001b[32m━━━━━━━━━━━━━━━━━━━━\u001b[0m\u001b[37m\u001b[0m \u001b[1m3s\u001b[0m 241ms/step - accuracy: 1.0000 - loss: 0.0029 - val_accuracy: 0.6038 - val_loss: 1.6774\n",
      "Epoch 59/60\n",
      "\u001b[1m14/14\u001b[0m \u001b[32m━━━━━━━━━━━━━━━━━━━━\u001b[0m\u001b[37m\u001b[0m \u001b[1m3s\u001b[0m 236ms/step - accuracy: 1.0000 - loss: 9.5875e-04 - val_accuracy: 0.6038 - val_loss: 1.5885\n",
      "Epoch 60/60\n",
      "\u001b[1m14/14\u001b[0m \u001b[32m━━━━━━━━━━━━━━━━━━━━\u001b[0m\u001b[37m\u001b[0m \u001b[1m3s\u001b[0m 243ms/step - accuracy: 1.0000 - loss: 0.0013 - val_accuracy: 0.6038 - val_loss: 1.5743\n",
      "\u001b[1m2/2\u001b[0m \u001b[32m━━━━━━━━━━━━━━━━━━━━\u001b[0m\u001b[37m\u001b[0m \u001b[1m12s\u001b[0m 12s/step - accuracy: 0.7661 - loss: 1.0110\n",
      "Test Accuracy for NASNetMobile: 0.6491228342056274\n",
      "\u001b[1m2/2\u001b[0m \u001b[32m━━━━━━━━━━━━━━━━━━━━\u001b[0m\u001b[37m\u001b[0m \u001b[1m28s\u001b[0m 14s/step\n",
      "              precision    recall  f1-score   support\n",
      "\n",
      "           0       0.63      1.00      0.77        34\n",
      "           1       1.00      0.13      0.23        23\n",
      "\n",
      "   micro avg       0.65      0.65      0.65        57\n",
      "   macro avg       0.81      0.57      0.50        57\n",
      "weighted avg       0.78      0.65      0.55        57\n",
      " samples avg       0.65      0.65      0.65        57\n",
      "\n"
     ]
    },
    {
     "data": {
      "image/png": "[encoded data removed]",
      "text/plain": [
       "<Figure size 1000x700 with 2 Axes>"
      ]
     },
     "metadata": {},
     "output_type": "display_data"
    }
   ],
   "source": [
    "model_name = \"NASNetMobile\"\n",
    "model = create_model(model_name)\n",
    "train_and_evaluate_model(model, train_data, val_data, test_data, model_name)"
   ]
  },
  {
   "cell_type": "code",
   "execution_count": null,
   "id": "234a25cb",
   "metadata": {
    "papermill": {
     "duration": 0.48961,
     "end_time": "2024-06-16T11:14:11.617599",
     "exception": false,
     "start_time": "2024-06-16T11:14:11.127989",
     "status": "completed"
    },
    "tags": []
   },
   "outputs": [],
   "source": []
  }
 ],
 "metadata": {
  "kaggle": {
   "accelerator": "gpu",
   "dataSources": [
    {
     "datasetId": 5219812,
     "sourceId": 8702887,
     "sourceType": "datasetVersion"
    }
   ],
   "dockerImageVersionId": 30733,
   "isGpuEnabled": true,
   "isInternetEnabled": true,
   "language": "python",
   "sourceType": "notebook"
  },
  "kernelspec": {
   "display_name": "Python 3",
   "language": "python",
   "name": "python3"
  },
  "language_info": {
   "codemirror_mode": {
    "name": "ipython",
    "version": 3
   },
   "file_extension": ".py",
   "mimetype": "text/x-python",
   "name": "python",
   "nbconvert_exporter": "python",
   "pygments_lexer": "ipython3",
   "version": "3.10.13"
  },
  "papermill": {
   "default_parameters": {},
   "duration": 2581.201335,
   "end_time": "2024-06-16T11:14:15.641753",
   "environment_variables": {},
   "exception": null,
   "input_path": "__notebook__.ipynb",
   "output_path": "__notebook__.ipynb",
   "parameters": {},
   "start_time": "2024-06-16T10:31:14.440418",
   "version": "2.5.0"
  }
 },
 "nbformat": 4,
 "nbformat_minor": 5
}
